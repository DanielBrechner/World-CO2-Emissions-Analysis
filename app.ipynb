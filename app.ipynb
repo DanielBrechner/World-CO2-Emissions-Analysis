{
 "cells": [
  {
   "cell_type": "markdown",
   "metadata": {},
   "source": [
    "# Data Analysis of World CO2 Emissions (1750-2020)\n",
    "\n",
    "### The goal of this project is to analyze the dataset from https://ourworldindata.org/co2-emissions and see which countries contribute the most to global CO2 emissions over time.  According to the Environmental Protection Agency, human activities are responsible for almost all of the increase in greenhouse gases in the atmosphere over the last 150 years. The largest source of greenhouse gas emissions from human activities in the United States is from burning fossil fuels for electricity, heat, and transportation. In this analysis, we will first look through the data and get a basic outlook on emissions over time, and later look at how the US compares to the rest of the world. "
   ]
  },
  {
   "cell_type": "code",
   "execution_count": 1,
   "metadata": {},
   "outputs": [],
   "source": [
    "import pandas as pd\n",
    "import matplotlib.pyplot as plt\n"
   ]
  },
  {
   "cell_type": "markdown",
   "metadata": {},
   "source": [
    "### Project requirement 1.) Read in data. \n",
    "Feature: Read in data from a local csv."
   ]
  },
  {
   "cell_type": "code",
   "execution_count": 2,
   "metadata": {},
   "outputs": [
    {
     "data": {
      "text/html": [
       "<div>\n",
       "<style scoped>\n",
       "    .dataframe tbody tr th:only-of-type {\n",
       "        vertical-align: middle;\n",
       "    }\n",
       "\n",
       "    .dataframe tbody tr th {\n",
       "        vertical-align: top;\n",
       "    }\n",
       "\n",
       "    .dataframe thead th {\n",
       "        text-align: right;\n",
       "    }\n",
       "</style>\n",
       "<table border=\"1\" class=\"dataframe\">\n",
       "  <thead>\n",
       "    <tr style=\"text-align: right;\">\n",
       "      <th></th>\n",
       "      <th>Country</th>\n",
       "      <th>Code</th>\n",
       "      <th>Calling Code</th>\n",
       "      <th>Year</th>\n",
       "      <th>CO2 emission (Tons)</th>\n",
       "      <th>Population(2022)</th>\n",
       "      <th>Area</th>\n",
       "      <th>% of World</th>\n",
       "      <th>Density(km2)</th>\n",
       "    </tr>\n",
       "  </thead>\n",
       "  <tbody>\n",
       "    <tr>\n",
       "      <th>0</th>\n",
       "      <td>Afghanistan</td>\n",
       "      <td>AF</td>\n",
       "      <td>93</td>\n",
       "      <td>1750</td>\n",
       "      <td>0.0</td>\n",
       "      <td>41128771.0</td>\n",
       "      <td>652230.0</td>\n",
       "      <td>0.40%</td>\n",
       "      <td>63/km�</td>\n",
       "    </tr>\n",
       "    <tr>\n",
       "      <th>1</th>\n",
       "      <td>Afghanistan</td>\n",
       "      <td>AF</td>\n",
       "      <td>93</td>\n",
       "      <td>1751</td>\n",
       "      <td>0.0</td>\n",
       "      <td>41128771.0</td>\n",
       "      <td>652230.0</td>\n",
       "      <td>0.40%</td>\n",
       "      <td>63/km�</td>\n",
       "    </tr>\n",
       "    <tr>\n",
       "      <th>2</th>\n",
       "      <td>Afghanistan</td>\n",
       "      <td>AF</td>\n",
       "      <td>93</td>\n",
       "      <td>1752</td>\n",
       "      <td>0.0</td>\n",
       "      <td>41128771.0</td>\n",
       "      <td>652230.0</td>\n",
       "      <td>0.40%</td>\n",
       "      <td>63/km�</td>\n",
       "    </tr>\n",
       "    <tr>\n",
       "      <th>3</th>\n",
       "      <td>Afghanistan</td>\n",
       "      <td>AF</td>\n",
       "      <td>93</td>\n",
       "      <td>1753</td>\n",
       "      <td>0.0</td>\n",
       "      <td>41128771.0</td>\n",
       "      <td>652230.0</td>\n",
       "      <td>0.40%</td>\n",
       "      <td>63/km�</td>\n",
       "    </tr>\n",
       "    <tr>\n",
       "      <th>4</th>\n",
       "      <td>Afghanistan</td>\n",
       "      <td>AF</td>\n",
       "      <td>93</td>\n",
       "      <td>1754</td>\n",
       "      <td>0.0</td>\n",
       "      <td>41128771.0</td>\n",
       "      <td>652230.0</td>\n",
       "      <td>0.40%</td>\n",
       "      <td>63/km�</td>\n",
       "    </tr>\n",
       "    <tr>\n",
       "      <th>...</th>\n",
       "      <td>...</td>\n",
       "      <td>...</td>\n",
       "      <td>...</td>\n",
       "      <td>...</td>\n",
       "      <td>...</td>\n",
       "      <td>...</td>\n",
       "      <td>...</td>\n",
       "      <td>...</td>\n",
       "      <td>...</td>\n",
       "    </tr>\n",
       "    <tr>\n",
       "      <th>59615</th>\n",
       "      <td>Zimbabwe</td>\n",
       "      <td>ZW</td>\n",
       "      <td>263</td>\n",
       "      <td>2016</td>\n",
       "      <td>736467042.0</td>\n",
       "      <td>16320537.0</td>\n",
       "      <td>390757.0</td>\n",
       "      <td>0.30%</td>\n",
       "      <td>42/km�</td>\n",
       "    </tr>\n",
       "    <tr>\n",
       "      <th>59616</th>\n",
       "      <td>Zimbabwe</td>\n",
       "      <td>ZW</td>\n",
       "      <td>263</td>\n",
       "      <td>2017</td>\n",
       "      <td>746048675.0</td>\n",
       "      <td>16320537.0</td>\n",
       "      <td>390757.0</td>\n",
       "      <td>0.30%</td>\n",
       "      <td>42/km�</td>\n",
       "    </tr>\n",
       "    <tr>\n",
       "      <th>59617</th>\n",
       "      <td>Zimbabwe</td>\n",
       "      <td>ZW</td>\n",
       "      <td>263</td>\n",
       "      <td>2018</td>\n",
       "      <td>757903042.0</td>\n",
       "      <td>16320537.0</td>\n",
       "      <td>390757.0</td>\n",
       "      <td>0.30%</td>\n",
       "      <td>42/km�</td>\n",
       "    </tr>\n",
       "    <tr>\n",
       "      <th>59618</th>\n",
       "      <td>Zimbabwe</td>\n",
       "      <td>ZW</td>\n",
       "      <td>263</td>\n",
       "      <td>2019</td>\n",
       "      <td>768852126.0</td>\n",
       "      <td>16320537.0</td>\n",
       "      <td>390757.0</td>\n",
       "      <td>0.30%</td>\n",
       "      <td>42/km�</td>\n",
       "    </tr>\n",
       "    <tr>\n",
       "      <th>59619</th>\n",
       "      <td>Zimbabwe</td>\n",
       "      <td>ZW</td>\n",
       "      <td>263</td>\n",
       "      <td>2020</td>\n",
       "      <td>779383468.0</td>\n",
       "      <td>16320537.0</td>\n",
       "      <td>390757.0</td>\n",
       "      <td>0.30%</td>\n",
       "      <td>42/km�</td>\n",
       "    </tr>\n",
       "  </tbody>\n",
       "</table>\n",
       "<p>59620 rows × 9 columns</p>\n",
       "</div>"
      ],
      "text/plain": [
       "           Country Code Calling Code  Year  CO2 emission (Tons)  \\\n",
       "0      Afghanistan   AF           93  1750                  0.0   \n",
       "1      Afghanistan   AF           93  1751                  0.0   \n",
       "2      Afghanistan   AF           93  1752                  0.0   \n",
       "3      Afghanistan   AF           93  1753                  0.0   \n",
       "4      Afghanistan   AF           93  1754                  0.0   \n",
       "...            ...  ...          ...   ...                  ...   \n",
       "59615     Zimbabwe   ZW          263  2016          736467042.0   \n",
       "59616     Zimbabwe   ZW          263  2017          746048675.0   \n",
       "59617     Zimbabwe   ZW          263  2018          757903042.0   \n",
       "59618     Zimbabwe   ZW          263  2019          768852126.0   \n",
       "59619     Zimbabwe   ZW          263  2020          779383468.0   \n",
       "\n",
       "       Population(2022)      Area % of World Density(km2)  \n",
       "0            41128771.0  652230.0      0.40%       63/km�  \n",
       "1            41128771.0  652230.0      0.40%       63/km�  \n",
       "2            41128771.0  652230.0      0.40%       63/km�  \n",
       "3            41128771.0  652230.0      0.40%       63/km�  \n",
       "4            41128771.0  652230.0      0.40%       63/km�  \n",
       "...                 ...       ...        ...          ...  \n",
       "59615        16320537.0  390757.0      0.30%       42/km�  \n",
       "59616        16320537.0  390757.0      0.30%       42/km�  \n",
       "59617        16320537.0  390757.0      0.30%       42/km�  \n",
       "59618        16320537.0  390757.0      0.30%       42/km�  \n",
       "59619        16320537.0  390757.0      0.30%       42/km�  \n",
       "\n",
       "[59620 rows x 9 columns]"
      ]
     },
     "execution_count": 2,
     "metadata": {},
     "output_type": "execute_result"
    }
   ],
   "source": [
    "df= pd.read_csv(\"co2.csv\")\n",
    "df"
   ]
  },
  {
   "cell_type": "markdown",
   "metadata": {},
   "source": [
    "## Project requirement 2.) Manipulate and clean your data.\n",
    "Feature: Use built-in pandas or numpy functions to do things to data"
   ]
  },
  {
   "cell_type": "markdown",
   "metadata": {},
   "source": [
    "### Check for missing values"
   ]
  },
  {
   "cell_type": "code",
   "execution_count": 3,
   "metadata": {},
   "outputs": [
    {
     "data": {
      "text/plain": [
       "Country                0\n",
       "Code                   0\n",
       "Calling Code           0\n",
       "Year                   0\n",
       "CO2 emission (Tons)    0\n",
       "Population(2022)       0\n",
       "Area                   0\n",
       "% of World             0\n",
       "Density(km2)           0\n",
       "dtype: int64"
      ]
     },
     "execution_count": 3,
     "metadata": {},
     "output_type": "execute_result"
    }
   ],
   "source": [
    "df[df.isnull()].count() "
   ]
  },
  {
   "cell_type": "markdown",
   "metadata": {},
   "source": [
    "No missing values in dataset"
   ]
  },
  {
   "cell_type": "markdown",
   "metadata": {},
   "source": [
    "### Check for duplicate values"
   ]
  },
  {
   "cell_type": "code",
   "execution_count": 4,
   "metadata": {},
   "outputs": [
    {
     "data": {
      "text/plain": [
       "Country                0\n",
       "Code                   0\n",
       "Calling Code           0\n",
       "Year                   0\n",
       "CO2 emission (Tons)    0\n",
       "Population(2022)       0\n",
       "Area                   0\n",
       "% of World             0\n",
       "Density(km2)           0\n",
       "dtype: int64"
      ]
     },
     "execution_count": 4,
     "metadata": {},
     "output_type": "execute_result"
    }
   ],
   "source": [
    "df[df.duplicated()].count() "
   ]
  },
  {
   "cell_type": "markdown",
   "metadata": {},
   "source": [
    "There are no duplicate values"
   ]
  },
  {
   "cell_type": "markdown",
   "metadata": {},
   "source": [
    "### Check for NaN values"
   ]
  },
  {
   "cell_type": "code",
   "execution_count": 5,
   "metadata": {},
   "outputs": [
    {
     "data": {
      "text/plain": [
       "True"
      ]
     },
     "execution_count": 5,
     "metadata": {},
     "output_type": "execute_result"
    }
   ],
   "source": [
    "df.isnull().values.any()"
   ]
  },
  {
   "cell_type": "code",
   "execution_count": 6,
   "metadata": {},
   "outputs": [
    {
     "data": {
      "text/plain": [
       "27371"
      ]
     },
     "execution_count": 6,
     "metadata": {},
     "output_type": "execute_result"
    }
   ],
   "source": [
    "df.isnull().sum().sum()"
   ]
  },
  {
   "cell_type": "markdown",
   "metadata": {},
   "source": [
    "### Dropping NaN values"
   ]
  },
  {
   "cell_type": "code",
   "execution_count": 7,
   "metadata": {},
   "outputs": [
    {
     "data": {
      "text/plain": [
       "False"
      ]
     },
     "execution_count": 7,
     "metadata": {},
     "output_type": "execute_result"
    }
   ],
   "source": [
    "df.dropna(inplace=True)\n",
    "df.isnull().values.any()"
   ]
  },
  {
   "cell_type": "markdown",
   "metadata": {},
   "source": [
    "### Data description"
   ]
  },
  {
   "cell_type": "code",
   "execution_count": 8,
   "metadata": {},
   "outputs": [
    {
     "data": {
      "text/html": [
       "<div>\n",
       "<style scoped>\n",
       "    .dataframe tbody tr th:only-of-type {\n",
       "        vertical-align: middle;\n",
       "    }\n",
       "\n",
       "    .dataframe tbody tr th {\n",
       "        vertical-align: top;\n",
       "    }\n",
       "\n",
       "    .dataframe thead th {\n",
       "        text-align: right;\n",
       "    }\n",
       "</style>\n",
       "<table border=\"1\" class=\"dataframe\">\n",
       "  <thead>\n",
       "    <tr style=\"text-align: right;\">\n",
       "      <th></th>\n",
       "      <th>Year</th>\n",
       "      <th>CO2 emission (Tons)</th>\n",
       "      <th>Population(2022)</th>\n",
       "      <th>Area</th>\n",
       "    </tr>\n",
       "  </thead>\n",
       "  <tbody>\n",
       "    <tr>\n",
       "      <th>count</th>\n",
       "      <td>48509</td>\n",
       "      <td>48509</td>\n",
       "      <td>48509</td>\n",
       "      <td>48509</td>\n",
       "    </tr>\n",
       "    <tr>\n",
       "      <th>mean</th>\n",
       "      <td>1885</td>\n",
       "      <td>1160748250</td>\n",
       "      <td>41861989</td>\n",
       "      <td>632807</td>\n",
       "    </tr>\n",
       "    <tr>\n",
       "      <th>std</th>\n",
       "      <td>78</td>\n",
       "      <td>11259032467</td>\n",
       "      <td>154568181</td>\n",
       "      <td>1551563</td>\n",
       "    </tr>\n",
       "    <tr>\n",
       "      <th>min</th>\n",
       "      <td>1750</td>\n",
       "      <td>0</td>\n",
       "      <td>11312</td>\n",
       "      <td>21</td>\n",
       "    </tr>\n",
       "    <tr>\n",
       "      <th>25%</th>\n",
       "      <td>1817</td>\n",
       "      <td>0</td>\n",
       "      <td>2305825</td>\n",
       "      <td>26338</td>\n",
       "    </tr>\n",
       "    <tr>\n",
       "      <th>50%</th>\n",
       "      <td>1885</td>\n",
       "      <td>0</td>\n",
       "      <td>9038309</td>\n",
       "      <td>130373</td>\n",
       "    </tr>\n",
       "    <tr>\n",
       "      <th>75%</th>\n",
       "      <td>1953</td>\n",
       "      <td>16601584</td>\n",
       "      <td>30547580</td>\n",
       "      <td>551695</td>\n",
       "    </tr>\n",
       "    <tr>\n",
       "      <th>max</th>\n",
       "      <td>2020</td>\n",
       "      <td>417000000000</td>\n",
       "      <td>1425887337</td>\n",
       "      <td>9984670</td>\n",
       "    </tr>\n",
       "  </tbody>\n",
       "</table>\n",
       "</div>"
      ],
      "text/plain": [
       "        Year  CO2 emission (Tons)  Population(2022)     Area\n",
       "count  48509                48509             48509    48509\n",
       "mean    1885           1160748250          41861989   632807\n",
       "std       78          11259032467         154568181  1551563\n",
       "min     1750                    0             11312       21\n",
       "25%     1817                    0           2305825    26338\n",
       "50%     1885                    0           9038309   130373\n",
       "75%     1953             16601584          30547580   551695\n",
       "max     2020         417000000000        1425887337  9984670"
      ]
     },
     "execution_count": 8,
     "metadata": {},
     "output_type": "execute_result"
    }
   ],
   "source": [
    "df.describe().astype('int64')"
   ]
  },
  {
   "cell_type": "markdown",
   "metadata": {},
   "source": [
    "### Using pandas built-in function to print a concise summary of this DataFrame"
   ]
  },
  {
   "cell_type": "code",
   "execution_count": 9,
   "metadata": {},
   "outputs": [
    {
     "name": "stdout",
     "output_type": "stream",
     "text": [
      "<class 'pandas.core.frame.DataFrame'>\n",
      "Int64Index: 48509 entries, 0 to 59619\n",
      "Data columns (total 9 columns):\n",
      " #   Column               Non-Null Count  Dtype  \n",
      "---  ------               --------------  -----  \n",
      " 0   Country              48509 non-null  object \n",
      " 1   Code                 48509 non-null  object \n",
      " 2   Calling Code         48509 non-null  object \n",
      " 3   Year                 48509 non-null  int64  \n",
      " 4   CO2 emission (Tons)  48509 non-null  float64\n",
      " 5   Population(2022)     48509 non-null  float64\n",
      " 6   Area                 48509 non-null  float64\n",
      " 7   % of World           48509 non-null  object \n",
      " 8   Density(km2)         48509 non-null  object \n",
      "dtypes: float64(3), int64(1), object(5)\n",
      "memory usage: 3.7+ MB\n"
     ]
    }
   ],
   "source": [
    "df.info()"
   ]
  },
  {
   "cell_type": "markdown",
   "metadata": {},
   "source": [
    "### Changing C02 Emissions (Tons) from dtype float to int64"
   ]
  },
  {
   "cell_type": "code",
   "execution_count": 10,
   "metadata": {},
   "outputs": [
    {
     "name": "stdout",
     "output_type": "stream",
     "text": [
      "<class 'pandas.core.frame.DataFrame'>\n",
      "Int64Index: 48509 entries, 0 to 59619\n",
      "Data columns (total 9 columns):\n",
      " #   Column               Non-Null Count  Dtype  \n",
      "---  ------               --------------  -----  \n",
      " 0   Country              48509 non-null  object \n",
      " 1   Code                 48509 non-null  object \n",
      " 2   Calling Code         48509 non-null  object \n",
      " 3   Year                 48509 non-null  int64  \n",
      " 4   CO2 emission (Tons)  48509 non-null  int64  \n",
      " 5   Population(2022)     48509 non-null  float64\n",
      " 6   Area                 48509 non-null  float64\n",
      " 7   % of World           48509 non-null  object \n",
      " 8   Density(km2)         48509 non-null  object \n",
      "dtypes: float64(2), int64(2), object(5)\n",
      "memory usage: 3.7+ MB\n"
     ]
    }
   ],
   "source": [
    "df['CO2 emission (Tons)'] = df['CO2 emission (Tons)'].astype('int64')\n",
    "df.info()"
   ]
  },
  {
   "cell_type": "markdown",
   "metadata": {},
   "source": [
    "### Removing unicode charachter from \"Density(km/2)\" column"
   ]
  },
  {
   "cell_type": "code",
   "execution_count": 11,
   "metadata": {},
   "outputs": [
    {
     "data": {
      "text/plain": [
       "0    63/km�\n",
       "1    63/km�\n",
       "2    63/km�\n",
       "3    63/km�\n",
       "4    63/km�\n",
       "Name: Density(km2), dtype: object"
      ]
     },
     "execution_count": 11,
     "metadata": {},
     "output_type": "execute_result"
    }
   ],
   "source": [
    "df['Density(km2)'].head()"
   ]
  },
  {
   "cell_type": "code",
   "execution_count": 12,
   "metadata": {},
   "outputs": [
    {
     "data": {
      "text/html": [
       "<div>\n",
       "<style scoped>\n",
       "    .dataframe tbody tr th:only-of-type {\n",
       "        vertical-align: middle;\n",
       "    }\n",
       "\n",
       "    .dataframe tbody tr th {\n",
       "        vertical-align: top;\n",
       "    }\n",
       "\n",
       "    .dataframe thead th {\n",
       "        text-align: right;\n",
       "    }\n",
       "</style>\n",
       "<table border=\"1\" class=\"dataframe\">\n",
       "  <thead>\n",
       "    <tr style=\"text-align: right;\">\n",
       "      <th></th>\n",
       "      <th>Country</th>\n",
       "      <th>Code</th>\n",
       "      <th>Calling Code</th>\n",
       "      <th>Year</th>\n",
       "      <th>CO2 emission (Tons)</th>\n",
       "      <th>Population(2022)</th>\n",
       "      <th>Area</th>\n",
       "      <th>% of World</th>\n",
       "      <th>Density(km2)</th>\n",
       "    </tr>\n",
       "  </thead>\n",
       "  <tbody>\n",
       "    <tr>\n",
       "      <th>0</th>\n",
       "      <td>Afghanistan</td>\n",
       "      <td>AF</td>\n",
       "      <td>93</td>\n",
       "      <td>1750</td>\n",
       "      <td>0</td>\n",
       "      <td>41128771.0</td>\n",
       "      <td>652230.0</td>\n",
       "      <td>0.40%</td>\n",
       "      <td>63/km</td>\n",
       "    </tr>\n",
       "    <tr>\n",
       "      <th>1</th>\n",
       "      <td>Afghanistan</td>\n",
       "      <td>AF</td>\n",
       "      <td>93</td>\n",
       "      <td>1751</td>\n",
       "      <td>0</td>\n",
       "      <td>41128771.0</td>\n",
       "      <td>652230.0</td>\n",
       "      <td>0.40%</td>\n",
       "      <td>63/km</td>\n",
       "    </tr>\n",
       "    <tr>\n",
       "      <th>2</th>\n",
       "      <td>Afghanistan</td>\n",
       "      <td>AF</td>\n",
       "      <td>93</td>\n",
       "      <td>1752</td>\n",
       "      <td>0</td>\n",
       "      <td>41128771.0</td>\n",
       "      <td>652230.0</td>\n",
       "      <td>0.40%</td>\n",
       "      <td>63/km</td>\n",
       "    </tr>\n",
       "    <tr>\n",
       "      <th>3</th>\n",
       "      <td>Afghanistan</td>\n",
       "      <td>AF</td>\n",
       "      <td>93</td>\n",
       "      <td>1753</td>\n",
       "      <td>0</td>\n",
       "      <td>41128771.0</td>\n",
       "      <td>652230.0</td>\n",
       "      <td>0.40%</td>\n",
       "      <td>63/km</td>\n",
       "    </tr>\n",
       "    <tr>\n",
       "      <th>4</th>\n",
       "      <td>Afghanistan</td>\n",
       "      <td>AF</td>\n",
       "      <td>93</td>\n",
       "      <td>1754</td>\n",
       "      <td>0</td>\n",
       "      <td>41128771.0</td>\n",
       "      <td>652230.0</td>\n",
       "      <td>0.40%</td>\n",
       "      <td>63/km</td>\n",
       "    </tr>\n",
       "  </tbody>\n",
       "</table>\n",
       "</div>"
      ],
      "text/plain": [
       "       Country Code Calling Code  Year  CO2 emission (Tons)  Population(2022)  \\\n",
       "0  Afghanistan   AF           93  1750                    0        41128771.0   \n",
       "1  Afghanistan   AF           93  1751                    0        41128771.0   \n",
       "2  Afghanistan   AF           93  1752                    0        41128771.0   \n",
       "3  Afghanistan   AF           93  1753                    0        41128771.0   \n",
       "4  Afghanistan   AF           93  1754                    0        41128771.0   \n",
       "\n",
       "       Area % of World Density(km2)  \n",
       "0  652230.0      0.40%        63/km  \n",
       "1  652230.0      0.40%        63/km  \n",
       "2  652230.0      0.40%        63/km  \n",
       "3  652230.0      0.40%        63/km  \n",
       "4  652230.0      0.40%        63/km  "
      ]
     },
     "execution_count": 12,
     "metadata": {},
     "output_type": "execute_result"
    }
   ],
   "source": [
    "df['Density(km2)'] = df['Density(km2)'].str.encode('ascii', 'ignore').str.decode('ascii')\n",
    "df.head()"
   ]
  },
  {
   "cell_type": "markdown",
   "metadata": {},
   "source": [
    "## Project Requirement 3.) Analyze your data."
   ]
  },
  {
   "cell_type": "markdown",
   "metadata": {},
   "source": [
    "### How many countries are in the dataset?"
   ]
  },
  {
   "cell_type": "code",
   "execution_count": 13,
   "metadata": {},
   "outputs": [
    {
     "data": {
      "text/plain": [
       "179"
      ]
     },
     "execution_count": 13,
     "metadata": {},
     "output_type": "execute_result"
    }
   ],
   "source": [
    "df.Country.nunique()"
   ]
  },
  {
   "cell_type": "markdown",
   "metadata": {},
   "source": [
    "There are 179 countries in this dataset"
   ]
  },
  {
   "cell_type": "markdown",
   "metadata": {},
   "source": [
    "### Checking the Population of 2020"
   ]
  },
  {
   "cell_type": "code",
   "execution_count": 14,
   "metadata": {},
   "outputs": [
    {
     "data": {
      "text/plain": [
       "7493296127"
      ]
     },
     "execution_count": 14,
     "metadata": {},
     "output_type": "execute_result"
    }
   ],
   "source": [
    "pop_2020= df[df['Year']==2020]\n",
    "pop_2020.loc[:,'Population(2022)'].sum().astype('int64')"
   ]
  },
  {
   "cell_type": "markdown",
   "metadata": {},
   "source": [
    "The total population of the world in 2020 was approximately 7.4 billion people according to this dataset"
   ]
  },
  {
   "cell_type": "markdown",
   "metadata": {},
   "source": [
    "### Total CO2 Emission for all countries in 2020"
   ]
  },
  {
   "cell_type": "code",
   "execution_count": 15,
   "metadata": {},
   "outputs": [
    {
     "data": {
      "text/plain": [
       "1492795620007"
      ]
     },
     "execution_count": 15,
     "metadata": {},
     "output_type": "execute_result"
    }
   ],
   "source": [
    "total_co2 = pop_2020['CO2 emission (Tons)'].sum()\n",
    "total_co2"
   ]
  },
  {
   "cell_type": "markdown",
   "metadata": {},
   "source": [
    "Total C02 emissions for the world in 2020 was 1,492,795,620,007 tons."
   ]
  },
  {
   "cell_type": "markdown",
   "metadata": {},
   "source": [
    "## 4.) Visualize you data with plots."
   ]
  },
  {
   "cell_type": "markdown",
   "metadata": {},
   "source": [
    "### Identifying years of significant increase in CO2 Emissions worldwide"
   ]
  },
  {
   "cell_type": "code",
   "execution_count": 16,
   "metadata": {},
   "outputs": [
    {
     "data": {
      "image/png": "[encoded data removed]",
      "text/plain": [
       "<Figure size 1000x500 with 1 Axes>"
      ]
     },
     "metadata": {},
     "output_type": "display_data"
    }
   ],
   "source": [
    "df.groupby('Year')['CO2 emission (Tons)'].sum().plot(figsize=(10,5));\n",
    "plt.ylabel('CO2 emission (Tons)');"
   ]
  },
  {
   "cell_type": "markdown",
   "metadata": {},
   "source": [
    "We can see an increase in CO2 Emissions around 1900, and a sharp increase after 1950. Industrialization, technological innovation and population increase are possible explanations for the rise. We should consider data was less reliable or non-existant as we go back in time before ther 20th century. Even with an incomplete dataset, the exponential rise in emissions over the past century is significant."
   ]
  },
  {
   "cell_type": "markdown",
   "metadata": {},
   "source": [
    "### Sorting the top 30 countries by total emissions in 2020"
   ]
  },
  {
   "cell_type": "code",
   "execution_count": 17,
   "metadata": {},
   "outputs": [
    {
     "data": {
      "image/png": "[encoded data removed]",
      "text/plain": [
       "<Figure size 1000x500 with 1 Axes>"
      ]
     },
     "metadata": {},
     "output_type": "display_data"
    }
   ],
   "source": [
    "df[df['Year']==2020].sort_values(by='CO2 emission (Tons)', ascending=False).head(30).plot.bar(x='Country',y='CO2 emission (Tons)',figsize=(10,5));"
   ]
  },
  {
   "cell_type": "markdown",
   "metadata": {},
   "source": [
    "### Finding the top five countries by CO2 emissions in 2020"
   ]
  },
  {
   "cell_type": "code",
   "execution_count": 18,
   "metadata": {},
   "outputs": [
    {
     "data": {
      "text/html": [
       "<div>\n",
       "<style scoped>\n",
       "    .dataframe tbody tr th:only-of-type {\n",
       "        vertical-align: middle;\n",
       "    }\n",
       "\n",
       "    .dataframe tbody tr th {\n",
       "        vertical-align: top;\n",
       "    }\n",
       "\n",
       "    .dataframe thead th {\n",
       "        text-align: right;\n",
       "    }\n",
       "</style>\n",
       "<table border=\"1\" class=\"dataframe\">\n",
       "  <thead>\n",
       "    <tr style=\"text-align: right;\">\n",
       "      <th></th>\n",
       "      <th>Country</th>\n",
       "      <th>Code</th>\n",
       "      <th>Calling Code</th>\n",
       "      <th>Year</th>\n",
       "      <th>CO2 emission (Tons)</th>\n",
       "      <th>Population(2022)</th>\n",
       "      <th>Area</th>\n",
       "      <th>% of World</th>\n",
       "      <th>Density(km2)</th>\n",
       "    </tr>\n",
       "  </thead>\n",
       "  <tbody>\n",
       "    <tr>\n",
       "      <th>57180</th>\n",
       "      <td>United States</td>\n",
       "      <td>US</td>\n",
       "      <td>1</td>\n",
       "      <td>2020</td>\n",
       "      <td>417000000000</td>\n",
       "      <td>3.382899e+08</td>\n",
       "      <td>9372610.0</td>\n",
       "      <td>6.10%</td>\n",
       "      <td>36/km</td>\n",
       "    </tr>\n",
       "    <tr>\n",
       "      <th>10839</th>\n",
       "      <td>China</td>\n",
       "      <td>CN</td>\n",
       "      <td>86</td>\n",
       "      <td>2020</td>\n",
       "      <td>236000000000</td>\n",
       "      <td>1.425887e+09</td>\n",
       "      <td>9706961.0</td>\n",
       "      <td>6.30%</td>\n",
       "      <td>147/km</td>\n",
       "    </tr>\n",
       "    <tr>\n",
       "      <th>20324</th>\n",
       "      <td>Germany</td>\n",
       "      <td>DE</td>\n",
       "      <td>49</td>\n",
       "      <td>2020</td>\n",
       "      <td>92635615097</td>\n",
       "      <td>8.336984e+07</td>\n",
       "      <td>357114.0</td>\n",
       "      <td>0.20%</td>\n",
       "      <td>233/km</td>\n",
       "    </tr>\n",
       "    <tr>\n",
       "      <th>56909</th>\n",
       "      <td>United Kingdom</td>\n",
       "      <td>GB</td>\n",
       "      <td>44</td>\n",
       "      <td>2020</td>\n",
       "      <td>78161145636</td>\n",
       "      <td>6.750894e+07</td>\n",
       "      <td>242900.0</td>\n",
       "      <td>0.20%</td>\n",
       "      <td>278/km</td>\n",
       "    </tr>\n",
       "    <tr>\n",
       "      <th>26557</th>\n",
       "      <td>Japan</td>\n",
       "      <td>JP</td>\n",
       "      <td>81</td>\n",
       "      <td>2020</td>\n",
       "      <td>65625166916</td>\n",
       "      <td>1.239517e+08</td>\n",
       "      <td>377930.0</td>\n",
       "      <td>0.20%</td>\n",
       "      <td>328/km</td>\n",
       "    </tr>\n",
       "  </tbody>\n",
       "</table>\n",
       "</div>"
      ],
      "text/plain": [
       "              Country Code Calling Code  Year  CO2 emission (Tons)  \\\n",
       "57180   United States   US            1  2020         417000000000   \n",
       "10839           China   CN           86  2020         236000000000   \n",
       "20324         Germany   DE           49  2020          92635615097   \n",
       "56909  United Kingdom   GB           44  2020          78161145636   \n",
       "26557           Japan   JP           81  2020          65625166916   \n",
       "\n",
       "       Population(2022)       Area % of World Density(km2)  \n",
       "57180      3.382899e+08  9372610.0      6.10%        36/km  \n",
       "10839      1.425887e+09  9706961.0      6.30%       147/km  \n",
       "20324      8.336984e+07   357114.0      0.20%       233/km  \n",
       "56909      6.750894e+07   242900.0      0.20%       278/km  \n",
       "26557      1.239517e+08   377930.0      0.20%       328/km  "
      ]
     },
     "execution_count": 18,
     "metadata": {},
     "output_type": "execute_result"
    }
   ],
   "source": [
    "top_five = df[df['Year']==2020].sort_values(by='CO2 emission (Tons)', ascending=False).head(5)\n",
    "top_five"
   ]
  },
  {
   "cell_type": "markdown",
   "metadata": {},
   "source": [
    "### How much CO2 does the top five emitters produce?"
   ]
  },
  {
   "cell_type": "code",
   "execution_count": 19,
   "metadata": {},
   "outputs": [
    {
     "data": {
      "text/plain": [
       "889421927649"
      ]
     },
     "execution_count": 19,
     "metadata": {},
     "output_type": "execute_result"
    }
   ],
   "source": [
    "top_five_co2 = top_five['CO2 emission (Tons)'].sum()\n",
    "top_five_co2"
   ]
  },
  {
   "cell_type": "markdown",
   "metadata": {},
   "source": [
    " The top five emmiters produce 889,421,927,649 tons of CO2"
   ]
  },
  {
   "cell_type": "markdown",
   "metadata": {},
   "source": [
    "### How much CO2 does the rest of the world produce in 2020?"
   ]
  },
  {
   "cell_type": "code",
   "execution_count": 20,
   "metadata": {},
   "outputs": [
    {
     "data": {
      "text/plain": [
       "603373692358"
      ]
     },
     "execution_count": 20,
     "metadata": {},
     "output_type": "execute_result"
    }
   ],
   "source": [
    "total_co2 - top_five_co2"
   ]
  },
  {
   "cell_type": "markdown",
   "metadata": {},
   "source": [
    "The rest of the world produces 603,373,692,358 tons of CO2 in 2020"
   ]
  },
  {
   "cell_type": "markdown",
   "metadata": {},
   "source": [
    "### What percent of the world's CO2 is produced my the top five countries?"
   ]
  },
  {
   "cell_type": "code",
   "execution_count": 21,
   "metadata": {},
   "outputs": [
    {
     "data": {
      "text/plain": [
       "59.5809577499182"
      ]
     },
     "execution_count": 21,
     "metadata": {},
     "output_type": "execute_result"
    }
   ],
   "source": [
    "(top_five_co2 / total_co2) * 100"
   ]
  },
  {
   "cell_type": "markdown",
   "metadata": {},
   "source": [
    "The top five countries produce 59.5% of the world's CO2! "
   ]
  },
  {
   "cell_type": "markdown",
   "metadata": {},
   "source": [
    "### Looking at top 30 countries by population"
   ]
  },
  {
   "cell_type": "code",
   "execution_count": 22,
   "metadata": {},
   "outputs": [
    {
     "data": {
      "image/png": "[encoded data removed]",
      "text/plain": [
       "<Figure size 1000x500 with 1 Axes>"
      ]
     },
     "metadata": {},
     "output_type": "display_data"
    }
   ],
   "source": [
    "df[df['Year']==2020].sort_values(by='Population(2022)', ascending=False).head(30).plot.bar(x='Country',y='Population(2022)',figsize=(10,5));"
   ]
  },
  {
   "cell_type": "markdown",
   "metadata": {},
   "source": [
    "## Comparision between US and World CO2 Emissions (1750-2020)"
   ]
  },
  {
   "cell_type": "markdown",
   "metadata": {},
   "source": [
    "Creating a DataFrame for the United States"
   ]
  },
  {
   "cell_type": "code",
   "execution_count": 23,
   "metadata": {},
   "outputs": [
    {
     "data": {
      "text/html": [
       "<div>\n",
       "<style scoped>\n",
       "    .dataframe tbody tr th:only-of-type {\n",
       "        vertical-align: middle;\n",
       "    }\n",
       "\n",
       "    .dataframe tbody tr th {\n",
       "        vertical-align: top;\n",
       "    }\n",
       "\n",
       "    .dataframe thead th {\n",
       "        text-align: right;\n",
       "    }\n",
       "</style>\n",
       "<table border=\"1\" class=\"dataframe\">\n",
       "  <thead>\n",
       "    <tr style=\"text-align: right;\">\n",
       "      <th></th>\n",
       "      <th>Country</th>\n",
       "      <th>Code</th>\n",
       "      <th>Calling Code</th>\n",
       "      <th>Year</th>\n",
       "      <th>CO2 emission (Tons)</th>\n",
       "      <th>Population(2022)</th>\n",
       "      <th>Area</th>\n",
       "      <th>% of World</th>\n",
       "      <th>Density(km2)</th>\n",
       "    </tr>\n",
       "  </thead>\n",
       "  <tbody>\n",
       "    <tr>\n",
       "      <th>56910</th>\n",
       "      <td>United States</td>\n",
       "      <td>US</td>\n",
       "      <td>1</td>\n",
       "      <td>1750</td>\n",
       "      <td>0</td>\n",
       "      <td>338289857.0</td>\n",
       "      <td>9372610.0</td>\n",
       "      <td>6.10%</td>\n",
       "      <td>36/km</td>\n",
       "    </tr>\n",
       "    <tr>\n",
       "      <th>56911</th>\n",
       "      <td>United States</td>\n",
       "      <td>US</td>\n",
       "      <td>1</td>\n",
       "      <td>1751</td>\n",
       "      <td>0</td>\n",
       "      <td>338289857.0</td>\n",
       "      <td>9372610.0</td>\n",
       "      <td>6.10%</td>\n",
       "      <td>36/km</td>\n",
       "    </tr>\n",
       "    <tr>\n",
       "      <th>56912</th>\n",
       "      <td>United States</td>\n",
       "      <td>US</td>\n",
       "      <td>1</td>\n",
       "      <td>1752</td>\n",
       "      <td>0</td>\n",
       "      <td>338289857.0</td>\n",
       "      <td>9372610.0</td>\n",
       "      <td>6.10%</td>\n",
       "      <td>36/km</td>\n",
       "    </tr>\n",
       "    <tr>\n",
       "      <th>56913</th>\n",
       "      <td>United States</td>\n",
       "      <td>US</td>\n",
       "      <td>1</td>\n",
       "      <td>1753</td>\n",
       "      <td>0</td>\n",
       "      <td>338289857.0</td>\n",
       "      <td>9372610.0</td>\n",
       "      <td>6.10%</td>\n",
       "      <td>36/km</td>\n",
       "    </tr>\n",
       "    <tr>\n",
       "      <th>56914</th>\n",
       "      <td>United States</td>\n",
       "      <td>US</td>\n",
       "      <td>1</td>\n",
       "      <td>1754</td>\n",
       "      <td>0</td>\n",
       "      <td>338289857.0</td>\n",
       "      <td>9372610.0</td>\n",
       "      <td>6.10%</td>\n",
       "      <td>36/km</td>\n",
       "    </tr>\n",
       "    <tr>\n",
       "      <th>...</th>\n",
       "      <td>...</td>\n",
       "      <td>...</td>\n",
       "      <td>...</td>\n",
       "      <td>...</td>\n",
       "      <td>...</td>\n",
       "      <td>...</td>\n",
       "      <td>...</td>\n",
       "      <td>...</td>\n",
       "      <td>...</td>\n",
       "    </tr>\n",
       "    <tr>\n",
       "      <th>57176</th>\n",
       "      <td>United States</td>\n",
       "      <td>US</td>\n",
       "      <td>1</td>\n",
       "      <td>2016</td>\n",
       "      <td>396000000000</td>\n",
       "      <td>338289857.0</td>\n",
       "      <td>9372610.0</td>\n",
       "      <td>6.10%</td>\n",
       "      <td>36/km</td>\n",
       "    </tr>\n",
       "    <tr>\n",
       "      <th>57177</th>\n",
       "      <td>United States</td>\n",
       "      <td>US</td>\n",
       "      <td>1</td>\n",
       "      <td>2017</td>\n",
       "      <td>401000000000</td>\n",
       "      <td>338289857.0</td>\n",
       "      <td>9372610.0</td>\n",
       "      <td>6.10%</td>\n",
       "      <td>36/km</td>\n",
       "    </tr>\n",
       "    <tr>\n",
       "      <th>57178</th>\n",
       "      <td>United States</td>\n",
       "      <td>US</td>\n",
       "      <td>1</td>\n",
       "      <td>2018</td>\n",
       "      <td>407000000000</td>\n",
       "      <td>338289857.0</td>\n",
       "      <td>9372610.0</td>\n",
       "      <td>6.10%</td>\n",
       "      <td>36/km</td>\n",
       "    </tr>\n",
       "    <tr>\n",
       "      <th>57179</th>\n",
       "      <td>United States</td>\n",
       "      <td>US</td>\n",
       "      <td>1</td>\n",
       "      <td>2019</td>\n",
       "      <td>412000000000</td>\n",
       "      <td>338289857.0</td>\n",
       "      <td>9372610.0</td>\n",
       "      <td>6.10%</td>\n",
       "      <td>36/km</td>\n",
       "    </tr>\n",
       "    <tr>\n",
       "      <th>57180</th>\n",
       "      <td>United States</td>\n",
       "      <td>US</td>\n",
       "      <td>1</td>\n",
       "      <td>2020</td>\n",
       "      <td>417000000000</td>\n",
       "      <td>338289857.0</td>\n",
       "      <td>9372610.0</td>\n",
       "      <td>6.10%</td>\n",
       "      <td>36/km</td>\n",
       "    </tr>\n",
       "  </tbody>\n",
       "</table>\n",
       "<p>271 rows × 9 columns</p>\n",
       "</div>"
      ],
      "text/plain": [
       "             Country Code Calling Code  Year  CO2 emission (Tons)  \\\n",
       "56910  United States   US            1  1750                    0   \n",
       "56911  United States   US            1  1751                    0   \n",
       "56912  United States   US            1  1752                    0   \n",
       "56913  United States   US            1  1753                    0   \n",
       "56914  United States   US            1  1754                    0   \n",
       "...              ...  ...          ...   ...                  ...   \n",
       "57176  United States   US            1  2016         396000000000   \n",
       "57177  United States   US            1  2017         401000000000   \n",
       "57178  United States   US            1  2018         407000000000   \n",
       "57179  United States   US            1  2019         412000000000   \n",
       "57180  United States   US            1  2020         417000000000   \n",
       "\n",
       "       Population(2022)       Area % of World Density(km2)  \n",
       "56910       338289857.0  9372610.0      6.10%        36/km  \n",
       "56911       338289857.0  9372610.0      6.10%        36/km  \n",
       "56912       338289857.0  9372610.0      6.10%        36/km  \n",
       "56913       338289857.0  9372610.0      6.10%        36/km  \n",
       "56914       338289857.0  9372610.0      6.10%        36/km  \n",
       "...                 ...        ...        ...          ...  \n",
       "57176       338289857.0  9372610.0      6.10%        36/km  \n",
       "57177       338289857.0  9372610.0      6.10%        36/km  \n",
       "57178       338289857.0  9372610.0      6.10%        36/km  \n",
       "57179       338289857.0  9372610.0      6.10%        36/km  \n",
       "57180       338289857.0  9372610.0      6.10%        36/km  \n",
       "\n",
       "[271 rows x 9 columns]"
      ]
     },
     "execution_count": 23,
     "metadata": {},
     "output_type": "execute_result"
    }
   ],
   "source": [
    "usa_data = df.loc[df['Country'] == 'United States']\n",
    "usa_data"
   ]
  },
  {
   "cell_type": "markdown",
   "metadata": {},
   "source": [
    "Creating a DataFrame for the rest of the world, minus the United States"
   ]
  },
  {
   "cell_type": "code",
   "execution_count": 24,
   "metadata": {},
   "outputs": [
    {
     "data": {
      "text/html": [
       "<div>\n",
       "<style scoped>\n",
       "    .dataframe tbody tr th:only-of-type {\n",
       "        vertical-align: middle;\n",
       "    }\n",
       "\n",
       "    .dataframe tbody tr th {\n",
       "        vertical-align: top;\n",
       "    }\n",
       "\n",
       "    .dataframe thead th {\n",
       "        text-align: right;\n",
       "    }\n",
       "</style>\n",
       "<table border=\"1\" class=\"dataframe\">\n",
       "  <thead>\n",
       "    <tr style=\"text-align: right;\">\n",
       "      <th></th>\n",
       "      <th>Country</th>\n",
       "      <th>Code</th>\n",
       "      <th>Calling Code</th>\n",
       "      <th>Year</th>\n",
       "      <th>CO2 emission (Tons)</th>\n",
       "      <th>Population(2022)</th>\n",
       "      <th>Area</th>\n",
       "      <th>% of World</th>\n",
       "      <th>Density(km2)</th>\n",
       "    </tr>\n",
       "  </thead>\n",
       "  <tbody>\n",
       "    <tr>\n",
       "      <th>0</th>\n",
       "      <td>Afghanistan</td>\n",
       "      <td>AF</td>\n",
       "      <td>93</td>\n",
       "      <td>1750</td>\n",
       "      <td>0</td>\n",
       "      <td>41128771.0</td>\n",
       "      <td>652230.0</td>\n",
       "      <td>0.40%</td>\n",
       "      <td>63/km</td>\n",
       "    </tr>\n",
       "    <tr>\n",
       "      <th>1</th>\n",
       "      <td>Afghanistan</td>\n",
       "      <td>AF</td>\n",
       "      <td>93</td>\n",
       "      <td>1751</td>\n",
       "      <td>0</td>\n",
       "      <td>41128771.0</td>\n",
       "      <td>652230.0</td>\n",
       "      <td>0.40%</td>\n",
       "      <td>63/km</td>\n",
       "    </tr>\n",
       "    <tr>\n",
       "      <th>2</th>\n",
       "      <td>Afghanistan</td>\n",
       "      <td>AF</td>\n",
       "      <td>93</td>\n",
       "      <td>1752</td>\n",
       "      <td>0</td>\n",
       "      <td>41128771.0</td>\n",
       "      <td>652230.0</td>\n",
       "      <td>0.40%</td>\n",
       "      <td>63/km</td>\n",
       "    </tr>\n",
       "    <tr>\n",
       "      <th>3</th>\n",
       "      <td>Afghanistan</td>\n",
       "      <td>AF</td>\n",
       "      <td>93</td>\n",
       "      <td>1753</td>\n",
       "      <td>0</td>\n",
       "      <td>41128771.0</td>\n",
       "      <td>652230.0</td>\n",
       "      <td>0.40%</td>\n",
       "      <td>63/km</td>\n",
       "    </tr>\n",
       "    <tr>\n",
       "      <th>4</th>\n",
       "      <td>Afghanistan</td>\n",
       "      <td>AF</td>\n",
       "      <td>93</td>\n",
       "      <td>1754</td>\n",
       "      <td>0</td>\n",
       "      <td>41128771.0</td>\n",
       "      <td>652230.0</td>\n",
       "      <td>0.40%</td>\n",
       "      <td>63/km</td>\n",
       "    </tr>\n",
       "    <tr>\n",
       "      <th>...</th>\n",
       "      <td>...</td>\n",
       "      <td>...</td>\n",
       "      <td>...</td>\n",
       "      <td>...</td>\n",
       "      <td>...</td>\n",
       "      <td>...</td>\n",
       "      <td>...</td>\n",
       "      <td>...</td>\n",
       "      <td>...</td>\n",
       "    </tr>\n",
       "    <tr>\n",
       "      <th>59615</th>\n",
       "      <td>Zimbabwe</td>\n",
       "      <td>ZW</td>\n",
       "      <td>263</td>\n",
       "      <td>2016</td>\n",
       "      <td>736467042</td>\n",
       "      <td>16320537.0</td>\n",
       "      <td>390757.0</td>\n",
       "      <td>0.30%</td>\n",
       "      <td>42/km</td>\n",
       "    </tr>\n",
       "    <tr>\n",
       "      <th>59616</th>\n",
       "      <td>Zimbabwe</td>\n",
       "      <td>ZW</td>\n",
       "      <td>263</td>\n",
       "      <td>2017</td>\n",
       "      <td>746048675</td>\n",
       "      <td>16320537.0</td>\n",
       "      <td>390757.0</td>\n",
       "      <td>0.30%</td>\n",
       "      <td>42/km</td>\n",
       "    </tr>\n",
       "    <tr>\n",
       "      <th>59617</th>\n",
       "      <td>Zimbabwe</td>\n",
       "      <td>ZW</td>\n",
       "      <td>263</td>\n",
       "      <td>2018</td>\n",
       "      <td>757903042</td>\n",
       "      <td>16320537.0</td>\n",
       "      <td>390757.0</td>\n",
       "      <td>0.30%</td>\n",
       "      <td>42/km</td>\n",
       "    </tr>\n",
       "    <tr>\n",
       "      <th>59618</th>\n",
       "      <td>Zimbabwe</td>\n",
       "      <td>ZW</td>\n",
       "      <td>263</td>\n",
       "      <td>2019</td>\n",
       "      <td>768852126</td>\n",
       "      <td>16320537.0</td>\n",
       "      <td>390757.0</td>\n",
       "      <td>0.30%</td>\n",
       "      <td>42/km</td>\n",
       "    </tr>\n",
       "    <tr>\n",
       "      <th>59619</th>\n",
       "      <td>Zimbabwe</td>\n",
       "      <td>ZW</td>\n",
       "      <td>263</td>\n",
       "      <td>2020</td>\n",
       "      <td>779383468</td>\n",
       "      <td>16320537.0</td>\n",
       "      <td>390757.0</td>\n",
       "      <td>0.30%</td>\n",
       "      <td>42/km</td>\n",
       "    </tr>\n",
       "  </tbody>\n",
       "</table>\n",
       "<p>48238 rows × 9 columns</p>\n",
       "</div>"
      ],
      "text/plain": [
       "           Country Code Calling Code  Year  CO2 emission (Tons)  \\\n",
       "0      Afghanistan   AF           93  1750                    0   \n",
       "1      Afghanistan   AF           93  1751                    0   \n",
       "2      Afghanistan   AF           93  1752                    0   \n",
       "3      Afghanistan   AF           93  1753                    0   \n",
       "4      Afghanistan   AF           93  1754                    0   \n",
       "...            ...  ...          ...   ...                  ...   \n",
       "59615     Zimbabwe   ZW          263  2016            736467042   \n",
       "59616     Zimbabwe   ZW          263  2017            746048675   \n",
       "59617     Zimbabwe   ZW          263  2018            757903042   \n",
       "59618     Zimbabwe   ZW          263  2019            768852126   \n",
       "59619     Zimbabwe   ZW          263  2020            779383468   \n",
       "\n",
       "       Population(2022)      Area % of World Density(km2)  \n",
       "0            41128771.0  652230.0      0.40%        63/km  \n",
       "1            41128771.0  652230.0      0.40%        63/km  \n",
       "2            41128771.0  652230.0      0.40%        63/km  \n",
       "3            41128771.0  652230.0      0.40%        63/km  \n",
       "4            41128771.0  652230.0      0.40%        63/km  \n",
       "...                 ...       ...        ...          ...  \n",
       "59615        16320537.0  390757.0      0.30%        42/km  \n",
       "59616        16320537.0  390757.0      0.30%        42/km  \n",
       "59617        16320537.0  390757.0      0.30%        42/km  \n",
       "59618        16320537.0  390757.0      0.30%        42/km  \n",
       "59619        16320537.0  390757.0      0.30%        42/km  \n",
       "\n",
       "[48238 rows x 9 columns]"
      ]
     },
     "execution_count": 24,
     "metadata": {},
     "output_type": "execute_result"
    }
   ],
   "source": [
    "rest_of_world = df.loc[df['Country'] != 'United States']\n",
    "rest_of_world"
   ]
  },
  {
   "cell_type": "markdown",
   "metadata": {},
   "source": [
    "Comparing the two DataFrames in a plot"
   ]
  },
  {
   "cell_type": "code",
   "execution_count": 25,
   "metadata": {},
   "outputs": [
    {
     "data": {
      "image/png": "[encoded data removed]",
      "text/plain": [
       "<Figure size 1000x500 with 1 Axes>"
      ]
     },
     "metadata": {},
     "output_type": "display_data"
    }
   ],
   "source": [
    "usa_data.plot(x = 'Year', y = 'CO2 emission (Tons)',figsize=(10,5), color = 'green');\n",
    "rest_of_world.groupby('Year')['CO2 emission (Tons)'].sum().plot(figsize=(10,5), color = 'red');\n",
    "plt.xlabel('Years')\n",
    "plt.ylabel('CO2 Emission (Tons)')\n",
    "plt.legend(['United States', 'The rest of the world'])\n",
    "plt.show()\n",
    "\n"
   ]
  },
  {
   "cell_type": "markdown",
   "metadata": {},
   "source": [
    "We can see the United States contributes significantly to the global CO2 output. However, in recent decades the rest of the world rate of increase is growing exponentially. It appears as though the rate of increase in the United States is growing at a slower rate than the rest of the world combined. Let's calculate the percent change of CO2 Emissions by year in the next section."
   ]
  },
  {
   "cell_type": "markdown",
   "metadata": {},
   "source": [
    "## Calculating percent change in CO2 Emissions by year in the United States"
   ]
  },
  {
   "cell_type": "code",
   "execution_count": 26,
   "metadata": {},
   "outputs": [
    {
     "data": {
      "text/plain": [
       "Index(['CO2 emission (Tons)'], dtype='object')"
      ]
     },
     "execution_count": 26,
     "metadata": {},
     "output_type": "execute_result"
    }
   ],
   "source": [
    "percent_change_usa = usa_data[['CO2 emission (Tons)']].pct_change();\n",
    "percent_change_usa.columns\n"
   ]
  },
  {
   "cell_type": "code",
   "execution_count": 30,
   "metadata": {},
   "outputs": [
    {
     "data": {
      "text/plain": [
       "Index(['Emissions Change'], dtype='object')"
      ]
     },
     "execution_count": 30,
     "metadata": {},
     "output_type": "execute_result"
    }
   ],
   "source": [
    "percent_change_usa.rename(columns={\"CO2 emission (Tons)\": \"Emissions Change\"}, inplace=True)\n",
    "percent_change_usa.columns\n"
   ]
  },
  {
   "cell_type": "code",
   "execution_count": 31,
   "metadata": {},
   "outputs": [
    {
     "data": {
      "text/html": [
       "<div>\n",
       "<style scoped>\n",
       "    .dataframe tbody tr th:only-of-type {\n",
       "        vertical-align: middle;\n",
       "    }\n",
       "\n",
       "    .dataframe tbody tr th {\n",
       "        vertical-align: top;\n",
       "    }\n",
       "\n",
       "    .dataframe thead th {\n",
       "        text-align: right;\n",
       "    }\n",
       "</style>\n",
       "<table border=\"1\" class=\"dataframe\">\n",
       "  <thead>\n",
       "    <tr style=\"text-align: right;\">\n",
       "      <th></th>\n",
       "      <th>Emissions Change</th>\n",
       "    </tr>\n",
       "  </thead>\n",
       "  <tbody>\n",
       "    <tr>\n",
       "      <th>56910</th>\n",
       "      <td>NaN</td>\n",
       "    </tr>\n",
       "    <tr>\n",
       "      <th>56911</th>\n",
       "      <td>NaN</td>\n",
       "    </tr>\n",
       "    <tr>\n",
       "      <th>56912</th>\n",
       "      <td>NaN</td>\n",
       "    </tr>\n",
       "    <tr>\n",
       "      <th>56913</th>\n",
       "      <td>NaN</td>\n",
       "    </tr>\n",
       "    <tr>\n",
       "      <th>56914</th>\n",
       "      <td>NaN</td>\n",
       "    </tr>\n",
       "    <tr>\n",
       "      <th>...</th>\n",
       "      <td>...</td>\n",
       "    </tr>\n",
       "    <tr>\n",
       "      <th>57176</th>\n",
       "      <td>0.012788</td>\n",
       "    </tr>\n",
       "    <tr>\n",
       "      <th>57177</th>\n",
       "      <td>0.012626</td>\n",
       "    </tr>\n",
       "    <tr>\n",
       "      <th>57178</th>\n",
       "      <td>0.014963</td>\n",
       "    </tr>\n",
       "    <tr>\n",
       "      <th>57179</th>\n",
       "      <td>0.012285</td>\n",
       "    </tr>\n",
       "    <tr>\n",
       "      <th>57180</th>\n",
       "      <td>0.012136</td>\n",
       "    </tr>\n",
       "  </tbody>\n",
       "</table>\n",
       "<p>271 rows × 1 columns</p>\n",
       "</div>"
      ],
      "text/plain": [
       "       Emissions Change\n",
       "56910               NaN\n",
       "56911               NaN\n",
       "56912               NaN\n",
       "56913               NaN\n",
       "56914               NaN\n",
       "...                 ...\n",
       "57176          0.012788\n",
       "57177          0.012626\n",
       "57178          0.014963\n",
       "57179          0.012285\n",
       "57180          0.012136\n",
       "\n",
       "[271 rows x 1 columns]"
      ]
     },
     "execution_count": 31,
     "metadata": {},
     "output_type": "execute_result"
    }
   ],
   "source": [
    "percent_change_usa"
   ]
  },
  {
   "cell_type": "markdown",
   "metadata": {},
   "source": [
    "### Merging percent change column into USA dataframe"
   ]
  },
  {
   "cell_type": "code",
   "execution_count": 32,
   "metadata": {},
   "outputs": [
    {
     "data": {
      "text/html": [
       "<div>\n",
       "<style scoped>\n",
       "    .dataframe tbody tr th:only-of-type {\n",
       "        vertical-align: middle;\n",
       "    }\n",
       "\n",
       "    .dataframe tbody tr th {\n",
       "        vertical-align: top;\n",
       "    }\n",
       "\n",
       "    .dataframe thead th {\n",
       "        text-align: right;\n",
       "    }\n",
       "</style>\n",
       "<table border=\"1\" class=\"dataframe\">\n",
       "  <thead>\n",
       "    <tr style=\"text-align: right;\">\n",
       "      <th></th>\n",
       "      <th>Country</th>\n",
       "      <th>Code</th>\n",
       "      <th>Calling Code</th>\n",
       "      <th>Year</th>\n",
       "      <th>CO2 emission (Tons)</th>\n",
       "      <th>Population(2022)</th>\n",
       "      <th>Area</th>\n",
       "      <th>% of World</th>\n",
       "      <th>Density(km2)</th>\n",
       "      <th>Emissions Change</th>\n",
       "    </tr>\n",
       "  </thead>\n",
       "  <tbody>\n",
       "    <tr>\n",
       "      <th>56910</th>\n",
       "      <td>United States</td>\n",
       "      <td>US</td>\n",
       "      <td>1</td>\n",
       "      <td>1750</td>\n",
       "      <td>0</td>\n",
       "      <td>338289857.0</td>\n",
       "      <td>9372610.0</td>\n",
       "      <td>6.10%</td>\n",
       "      <td>36/km</td>\n",
       "      <td>NaN</td>\n",
       "    </tr>\n",
       "    <tr>\n",
       "      <th>56911</th>\n",
       "      <td>United States</td>\n",
       "      <td>US</td>\n",
       "      <td>1</td>\n",
       "      <td>1751</td>\n",
       "      <td>0</td>\n",
       "      <td>338289857.0</td>\n",
       "      <td>9372610.0</td>\n",
       "      <td>6.10%</td>\n",
       "      <td>36/km</td>\n",
       "      <td>NaN</td>\n",
       "    </tr>\n",
       "    <tr>\n",
       "      <th>56912</th>\n",
       "      <td>United States</td>\n",
       "      <td>US</td>\n",
       "      <td>1</td>\n",
       "      <td>1752</td>\n",
       "      <td>0</td>\n",
       "      <td>338289857.0</td>\n",
       "      <td>9372610.0</td>\n",
       "      <td>6.10%</td>\n",
       "      <td>36/km</td>\n",
       "      <td>NaN</td>\n",
       "    </tr>\n",
       "    <tr>\n",
       "      <th>56913</th>\n",
       "      <td>United States</td>\n",
       "      <td>US</td>\n",
       "      <td>1</td>\n",
       "      <td>1753</td>\n",
       "      <td>0</td>\n",
       "      <td>338289857.0</td>\n",
       "      <td>9372610.0</td>\n",
       "      <td>6.10%</td>\n",
       "      <td>36/km</td>\n",
       "      <td>NaN</td>\n",
       "    </tr>\n",
       "    <tr>\n",
       "      <th>56914</th>\n",
       "      <td>United States</td>\n",
       "      <td>US</td>\n",
       "      <td>1</td>\n",
       "      <td>1754</td>\n",
       "      <td>0</td>\n",
       "      <td>338289857.0</td>\n",
       "      <td>9372610.0</td>\n",
       "      <td>6.10%</td>\n",
       "      <td>36/km</td>\n",
       "      <td>NaN</td>\n",
       "    </tr>\n",
       "    <tr>\n",
       "      <th>...</th>\n",
       "      <td>...</td>\n",
       "      <td>...</td>\n",
       "      <td>...</td>\n",
       "      <td>...</td>\n",
       "      <td>...</td>\n",
       "      <td>...</td>\n",
       "      <td>...</td>\n",
       "      <td>...</td>\n",
       "      <td>...</td>\n",
       "      <td>...</td>\n",
       "    </tr>\n",
       "    <tr>\n",
       "      <th>57176</th>\n",
       "      <td>United States</td>\n",
       "      <td>US</td>\n",
       "      <td>1</td>\n",
       "      <td>2016</td>\n",
       "      <td>396000000000</td>\n",
       "      <td>338289857.0</td>\n",
       "      <td>9372610.0</td>\n",
       "      <td>6.10%</td>\n",
       "      <td>36/km</td>\n",
       "      <td>0.012788</td>\n",
       "    </tr>\n",
       "    <tr>\n",
       "      <th>57177</th>\n",
       "      <td>United States</td>\n",
       "      <td>US</td>\n",
       "      <td>1</td>\n",
       "      <td>2017</td>\n",
       "      <td>401000000000</td>\n",
       "      <td>338289857.0</td>\n",
       "      <td>9372610.0</td>\n",
       "      <td>6.10%</td>\n",
       "      <td>36/km</td>\n",
       "      <td>0.012626</td>\n",
       "    </tr>\n",
       "    <tr>\n",
       "      <th>57178</th>\n",
       "      <td>United States</td>\n",
       "      <td>US</td>\n",
       "      <td>1</td>\n",
       "      <td>2018</td>\n",
       "      <td>407000000000</td>\n",
       "      <td>338289857.0</td>\n",
       "      <td>9372610.0</td>\n",
       "      <td>6.10%</td>\n",
       "      <td>36/km</td>\n",
       "      <td>0.014963</td>\n",
       "    </tr>\n",
       "    <tr>\n",
       "      <th>57179</th>\n",
       "      <td>United States</td>\n",
       "      <td>US</td>\n",
       "      <td>1</td>\n",
       "      <td>2019</td>\n",
       "      <td>412000000000</td>\n",
       "      <td>338289857.0</td>\n",
       "      <td>9372610.0</td>\n",
       "      <td>6.10%</td>\n",
       "      <td>36/km</td>\n",
       "      <td>0.012285</td>\n",
       "    </tr>\n",
       "    <tr>\n",
       "      <th>57180</th>\n",
       "      <td>United States</td>\n",
       "      <td>US</td>\n",
       "      <td>1</td>\n",
       "      <td>2020</td>\n",
       "      <td>417000000000</td>\n",
       "      <td>338289857.0</td>\n",
       "      <td>9372610.0</td>\n",
       "      <td>6.10%</td>\n",
       "      <td>36/km</td>\n",
       "      <td>0.012136</td>\n",
       "    </tr>\n",
       "  </tbody>\n",
       "</table>\n",
       "<p>271 rows × 10 columns</p>\n",
       "</div>"
      ],
      "text/plain": [
       "             Country Code Calling Code  Year  CO2 emission (Tons)  \\\n",
       "56910  United States   US            1  1750                    0   \n",
       "56911  United States   US            1  1751                    0   \n",
       "56912  United States   US            1  1752                    0   \n",
       "56913  United States   US            1  1753                    0   \n",
       "56914  United States   US            1  1754                    0   \n",
       "...              ...  ...          ...   ...                  ...   \n",
       "57176  United States   US            1  2016         396000000000   \n",
       "57177  United States   US            1  2017         401000000000   \n",
       "57178  United States   US            1  2018         407000000000   \n",
       "57179  United States   US            1  2019         412000000000   \n",
       "57180  United States   US            1  2020         417000000000   \n",
       "\n",
       "       Population(2022)       Area % of World Density(km2)  Emissions Change  \n",
       "56910       338289857.0  9372610.0      6.10%        36/km               NaN  \n",
       "56911       338289857.0  9372610.0      6.10%        36/km               NaN  \n",
       "56912       338289857.0  9372610.0      6.10%        36/km               NaN  \n",
       "56913       338289857.0  9372610.0      6.10%        36/km               NaN  \n",
       "56914       338289857.0  9372610.0      6.10%        36/km               NaN  \n",
       "...                 ...        ...        ...          ...               ...  \n",
       "57176       338289857.0  9372610.0      6.10%        36/km          0.012788  \n",
       "57177       338289857.0  9372610.0      6.10%        36/km          0.012626  \n",
       "57178       338289857.0  9372610.0      6.10%        36/km          0.014963  \n",
       "57179       338289857.0  9372610.0      6.10%        36/km          0.012285  \n",
       "57180       338289857.0  9372610.0      6.10%        36/km          0.012136  \n",
       "\n",
       "[271 rows x 10 columns]"
      ]
     },
     "execution_count": 32,
     "metadata": {},
     "output_type": "execute_result"
    }
   ],
   "source": [
    "add_percent_change_to_usa_data = [usa_data, percent_change_usa,]\n",
    "\n",
    "new_usa_df = pd.concat(add_percent_change_to_usa_data, axis=1)\n",
    "new_usa_df"
   ]
  },
  {
   "cell_type": "markdown",
   "metadata": {},
   "source": [
    "### Removing NaN values"
   ]
  }
 ],
 "metadata": {
  "kernelspec": {
   "display_name": "Python 3.10.6 64-bit",
   "language": "python",
   "name": "python3"
  },
  "language_info": {
   "codemirror_mode": {
    "name": "ipython",
    "version": 3
   },
   "file_extension": ".py",
   "mimetype": "text/x-python",
   "name": "python",
   "nbconvert_exporter": "python",
   "pygments_lexer": "ipython3",
   "version": "3.10.6"
  },
  "orig_nbformat": 4,
  "vscode": {
   "interpreter": {
    "hash": "aee8b7b246df8f9039afb4144a1f6fd8d2ca17a180786b69acc140d282b71a49"
   }
  }
 },
 "nbformat": 4,
 "nbformat_minor": 2
}
