{
 "cells": [
  {
   "cell_type": "markdown",
   "metadata": {},
   "source": [
    "# Data Analysis of World CO2 Emissions (1750-2020)"
   ]
  },
  {
   "cell_type": "code",
   "execution_count": 161,
   "metadata": {},
   "outputs": [],
   "source": [
    "import pandas as pd\n",
    "import numpy as np\n",
    "import matplotlib.pyplot as plt\n"
   ]
  },
  {
   "cell_type": "markdown",
   "metadata": {},
   "source": [
    "### Project requirement 1.) Import data"
   ]
  },
  {
   "cell_type": "code",
   "execution_count": 162,
   "metadata": {},
   "outputs": [
    {
     "data": {
      "text/html": [
       "<div>\n",
       "<style scoped>\n",
       "    .dataframe tbody tr th:only-of-type {\n",
       "        vertical-align: middle;\n",
       "    }\n",
       "\n",
       "    .dataframe tbody tr th {\n",
       "        vertical-align: top;\n",
       "    }\n",
       "\n",
       "    .dataframe thead th {\n",
       "        text-align: right;\n",
       "    }\n",
       "</style>\n",
       "<table border=\"1\" class=\"dataframe\">\n",
       "  <thead>\n",
       "    <tr style=\"text-align: right;\">\n",
       "      <th></th>\n",
       "      <th>Country</th>\n",
       "      <th>Code</th>\n",
       "      <th>Calling Code</th>\n",
       "      <th>Year</th>\n",
       "      <th>CO2 emission (Tons)</th>\n",
       "      <th>Population(2022)</th>\n",
       "      <th>Area</th>\n",
       "      <th>% of World</th>\n",
       "      <th>Density(km2)</th>\n",
       "    </tr>\n",
       "  </thead>\n",
       "  <tbody>\n",
       "    <tr>\n",
       "      <th>0</th>\n",
       "      <td>Afghanistan</td>\n",
       "      <td>AF</td>\n",
       "      <td>93</td>\n",
       "      <td>1750</td>\n",
       "      <td>0.0</td>\n",
       "      <td>41128771.0</td>\n",
       "      <td>652230.0</td>\n",
       "      <td>0.40%</td>\n",
       "      <td>63/km�</td>\n",
       "    </tr>\n",
       "    <tr>\n",
       "      <th>1</th>\n",
       "      <td>Afghanistan</td>\n",
       "      <td>AF</td>\n",
       "      <td>93</td>\n",
       "      <td>1751</td>\n",
       "      <td>0.0</td>\n",
       "      <td>41128771.0</td>\n",
       "      <td>652230.0</td>\n",
       "      <td>0.40%</td>\n",
       "      <td>63/km�</td>\n",
       "    </tr>\n",
       "    <tr>\n",
       "      <th>2</th>\n",
       "      <td>Afghanistan</td>\n",
       "      <td>AF</td>\n",
       "      <td>93</td>\n",
       "      <td>1752</td>\n",
       "      <td>0.0</td>\n",
       "      <td>41128771.0</td>\n",
       "      <td>652230.0</td>\n",
       "      <td>0.40%</td>\n",
       "      <td>63/km�</td>\n",
       "    </tr>\n",
       "    <tr>\n",
       "      <th>3</th>\n",
       "      <td>Afghanistan</td>\n",
       "      <td>AF</td>\n",
       "      <td>93</td>\n",
       "      <td>1753</td>\n",
       "      <td>0.0</td>\n",
       "      <td>41128771.0</td>\n",
       "      <td>652230.0</td>\n",
       "      <td>0.40%</td>\n",
       "      <td>63/km�</td>\n",
       "    </tr>\n",
       "    <tr>\n",
       "      <th>4</th>\n",
       "      <td>Afghanistan</td>\n",
       "      <td>AF</td>\n",
       "      <td>93</td>\n",
       "      <td>1754</td>\n",
       "      <td>0.0</td>\n",
       "      <td>41128771.0</td>\n",
       "      <td>652230.0</td>\n",
       "      <td>0.40%</td>\n",
       "      <td>63/km�</td>\n",
       "    </tr>\n",
       "    <tr>\n",
       "      <th>...</th>\n",
       "      <td>...</td>\n",
       "      <td>...</td>\n",
       "      <td>...</td>\n",
       "      <td>...</td>\n",
       "      <td>...</td>\n",
       "      <td>...</td>\n",
       "      <td>...</td>\n",
       "      <td>...</td>\n",
       "      <td>...</td>\n",
       "    </tr>\n",
       "    <tr>\n",
       "      <th>59615</th>\n",
       "      <td>Zimbabwe</td>\n",
       "      <td>ZW</td>\n",
       "      <td>263</td>\n",
       "      <td>2016</td>\n",
       "      <td>736467042.0</td>\n",
       "      <td>16320537.0</td>\n",
       "      <td>390757.0</td>\n",
       "      <td>0.30%</td>\n",
       "      <td>42/km�</td>\n",
       "    </tr>\n",
       "    <tr>\n",
       "      <th>59616</th>\n",
       "      <td>Zimbabwe</td>\n",
       "      <td>ZW</td>\n",
       "      <td>263</td>\n",
       "      <td>2017</td>\n",
       "      <td>746048675.0</td>\n",
       "      <td>16320537.0</td>\n",
       "      <td>390757.0</td>\n",
       "      <td>0.30%</td>\n",
       "      <td>42/km�</td>\n",
       "    </tr>\n",
       "    <tr>\n",
       "      <th>59617</th>\n",
       "      <td>Zimbabwe</td>\n",
       "      <td>ZW</td>\n",
       "      <td>263</td>\n",
       "      <td>2018</td>\n",
       "      <td>757903042.0</td>\n",
       "      <td>16320537.0</td>\n",
       "      <td>390757.0</td>\n",
       "      <td>0.30%</td>\n",
       "      <td>42/km�</td>\n",
       "    </tr>\n",
       "    <tr>\n",
       "      <th>59618</th>\n",
       "      <td>Zimbabwe</td>\n",
       "      <td>ZW</td>\n",
       "      <td>263</td>\n",
       "      <td>2019</td>\n",
       "      <td>768852126.0</td>\n",
       "      <td>16320537.0</td>\n",
       "      <td>390757.0</td>\n",
       "      <td>0.30%</td>\n",
       "      <td>42/km�</td>\n",
       "    </tr>\n",
       "    <tr>\n",
       "      <th>59619</th>\n",
       "      <td>Zimbabwe</td>\n",
       "      <td>ZW</td>\n",
       "      <td>263</td>\n",
       "      <td>2020</td>\n",
       "      <td>779383468.0</td>\n",
       "      <td>16320537.0</td>\n",
       "      <td>390757.0</td>\n",
       "      <td>0.30%</td>\n",
       "      <td>42/km�</td>\n",
       "    </tr>\n",
       "  </tbody>\n",
       "</table>\n",
       "<p>59620 rows × 9 columns</p>\n",
       "</div>"
      ],
      "text/plain": [
       "           Country Code Calling Code  Year  CO2 emission (Tons)  \\\n",
       "0      Afghanistan   AF           93  1750                  0.0   \n",
       "1      Afghanistan   AF           93  1751                  0.0   \n",
       "2      Afghanistan   AF           93  1752                  0.0   \n",
       "3      Afghanistan   AF           93  1753                  0.0   \n",
       "4      Afghanistan   AF           93  1754                  0.0   \n",
       "...            ...  ...          ...   ...                  ...   \n",
       "59615     Zimbabwe   ZW          263  2016          736467042.0   \n",
       "59616     Zimbabwe   ZW          263  2017          746048675.0   \n",
       "59617     Zimbabwe   ZW          263  2018          757903042.0   \n",
       "59618     Zimbabwe   ZW          263  2019          768852126.0   \n",
       "59619     Zimbabwe   ZW          263  2020          779383468.0   \n",
       "\n",
       "       Population(2022)      Area % of World Density(km2)  \n",
       "0            41128771.0  652230.0      0.40%       63/km�  \n",
       "1            41128771.0  652230.0      0.40%       63/km�  \n",
       "2            41128771.0  652230.0      0.40%       63/km�  \n",
       "3            41128771.0  652230.0      0.40%       63/km�  \n",
       "4            41128771.0  652230.0      0.40%       63/km�  \n",
       "...                 ...       ...        ...          ...  \n",
       "59615        16320537.0  390757.0      0.30%       42/km�  \n",
       "59616        16320537.0  390757.0      0.30%       42/km�  \n",
       "59617        16320537.0  390757.0      0.30%       42/km�  \n",
       "59618        16320537.0  390757.0      0.30%       42/km�  \n",
       "59619        16320537.0  390757.0      0.30%       42/km�  \n",
       "\n",
       "[59620 rows x 9 columns]"
      ]
     },
     "execution_count": 162,
     "metadata": {},
     "output_type": "execute_result"
    }
   ],
   "source": [
    "df= pd.read_csv(\"co2.csv\")\n",
    "df"
   ]
  },
  {
   "cell_type": "markdown",
   "metadata": {},
   "source": [
    "Data description"
   ]
  },
  {
   "cell_type": "code",
   "execution_count": 163,
   "metadata": {},
   "outputs": [
    {
     "data": {
      "text/html": [
       "<div>\n",
       "<style scoped>\n",
       "    .dataframe tbody tr th:only-of-type {\n",
       "        vertical-align: middle;\n",
       "    }\n",
       "\n",
       "    .dataframe tbody tr th {\n",
       "        vertical-align: top;\n",
       "    }\n",
       "\n",
       "    .dataframe thead th {\n",
       "        text-align: right;\n",
       "    }\n",
       "</style>\n",
       "<table border=\"1\" class=\"dataframe\">\n",
       "  <thead>\n",
       "    <tr style=\"text-align: right;\">\n",
       "      <th></th>\n",
       "      <th>Year</th>\n",
       "      <th>CO2 emission (Tons)</th>\n",
       "      <th>Population(2022)</th>\n",
       "      <th>Area</th>\n",
       "    </tr>\n",
       "  </thead>\n",
       "  <tbody>\n",
       "    <tr>\n",
       "      <th>count</th>\n",
       "      <td>59620.000000</td>\n",
       "      <td>5.962000e+04</td>\n",
       "      <td>5.311600e+04</td>\n",
       "      <td>5.528400e+04</td>\n",
       "    </tr>\n",
       "    <tr>\n",
       "      <th>mean</th>\n",
       "      <td>1885.000000</td>\n",
       "      <td>1.034774e+09</td>\n",
       "      <td>3.992260e+07</td>\n",
       "      <td>6.522073e+05</td>\n",
       "    </tr>\n",
       "    <tr>\n",
       "      <th>std</th>\n",
       "      <td>78.231085</td>\n",
       "      <td>1.041652e+10</td>\n",
       "      <td>1.482365e+08</td>\n",
       "      <td>1.865483e+06</td>\n",
       "    </tr>\n",
       "    <tr>\n",
       "      <th>min</th>\n",
       "      <td>1750.000000</td>\n",
       "      <td>0.000000e+00</td>\n",
       "      <td>1.131200e+04</td>\n",
       "      <td>2.100000e+01</td>\n",
       "    </tr>\n",
       "    <tr>\n",
       "      <th>25%</th>\n",
       "      <td>1817.000000</td>\n",
       "      <td>0.000000e+00</td>\n",
       "      <td>1.770414e+06</td>\n",
       "      <td>1.770450e+04</td>\n",
       "    </tr>\n",
       "    <tr>\n",
       "      <th>50%</th>\n",
       "      <td>1885.000000</td>\n",
       "      <td>0.000000e+00</td>\n",
       "      <td>8.673095e+06</td>\n",
       "      <td>1.103815e+05</td>\n",
       "    </tr>\n",
       "    <tr>\n",
       "      <th>75%</th>\n",
       "      <td>1953.000000</td>\n",
       "      <td>8.715092e+06</td>\n",
       "      <td>2.862920e+07</td>\n",
       "      <td>4.925730e+05</td>\n",
       "    </tr>\n",
       "    <tr>\n",
       "      <th>max</th>\n",
       "      <td>2020.000000</td>\n",
       "      <td>4.170000e+11</td>\n",
       "      <td>1.425887e+09</td>\n",
       "      <td>1.709824e+07</td>\n",
       "    </tr>\n",
       "  </tbody>\n",
       "</table>\n",
       "</div>"
      ],
      "text/plain": [
       "               Year  CO2 emission (Tons)  Population(2022)          Area\n",
       "count  59620.000000         5.962000e+04      5.311600e+04  5.528400e+04\n",
       "mean    1885.000000         1.034774e+09      3.992260e+07  6.522073e+05\n",
       "std       78.231085         1.041652e+10      1.482365e+08  1.865483e+06\n",
       "min     1750.000000         0.000000e+00      1.131200e+04  2.100000e+01\n",
       "25%     1817.000000         0.000000e+00      1.770414e+06  1.770450e+04\n",
       "50%     1885.000000         0.000000e+00      8.673095e+06  1.103815e+05\n",
       "75%     1953.000000         8.715092e+06      2.862920e+07  4.925730e+05\n",
       "max     2020.000000         4.170000e+11      1.425887e+09  1.709824e+07"
      ]
     },
     "execution_count": 163,
     "metadata": {},
     "output_type": "execute_result"
    }
   ],
   "source": [
    "df.describe()"
   ]
  },
  {
   "cell_type": "markdown",
   "metadata": {},
   "source": [
    "Using pandas built-in function to print a concise summary of this DataFrame"
   ]
  },
  {
   "cell_type": "code",
   "execution_count": 164,
   "metadata": {},
   "outputs": [
    {
     "name": "stdout",
     "output_type": "stream",
     "text": [
      "<class 'pandas.core.frame.DataFrame'>\n",
      "RangeIndex: 59620 entries, 0 to 59619\n",
      "Data columns (total 9 columns):\n",
      " #   Column               Non-Null Count  Dtype  \n",
      "---  ------               --------------  -----  \n",
      " 0   Country              59620 non-null  object \n",
      " 1   Code                 57452 non-null  object \n",
      " 2   Calling Code         56097 non-null  object \n",
      " 3   Year                 59620 non-null  int64  \n",
      " 4   CO2 emission (Tons)  59620 non-null  float64\n",
      " 5   Population(2022)     53116 non-null  float64\n",
      " 6   Area                 55284 non-null  float64\n",
      " 7   % of World           55284 non-null  object \n",
      " 8   Density(km2)         53116 non-null  object \n",
      "dtypes: float64(3), int64(1), object(5)\n",
      "memory usage: 4.1+ MB\n"
     ]
    }
   ],
   "source": [
    "df.info()"
   ]
  },
  {
   "cell_type": "markdown",
   "metadata": {},
   "source": [
    "### Project requirement 2.) Use built-in pandas or numpy functions"
   ]
  },
  {
   "cell_type": "markdown",
   "metadata": {},
   "source": [
    "Changing CO2 emissions dtype from float64 to int64"
   ]
  },
  {
   "cell_type": "code",
   "execution_count": 165,
   "metadata": {},
   "outputs": [
    {
     "name": "stdout",
     "output_type": "stream",
     "text": [
      "<class 'pandas.core.frame.DataFrame'>\n",
      "RangeIndex: 59620 entries, 0 to 59619\n",
      "Data columns (total 9 columns):\n",
      " #   Column               Non-Null Count  Dtype  \n",
      "---  ------               --------------  -----  \n",
      " 0   Country              59620 non-null  object \n",
      " 1   Code                 57452 non-null  object \n",
      " 2   Calling Code         56097 non-null  object \n",
      " 3   Year                 59620 non-null  int64  \n",
      " 4   CO2 emission (Tons)  59620 non-null  int64  \n",
      " 5   Population(2022)     53116 non-null  float64\n",
      " 6   Area                 55284 non-null  float64\n",
      " 7   % of World           55284 non-null  object \n",
      " 8   Density(km2)         53116 non-null  object \n",
      "dtypes: float64(2), int64(2), object(5)\n",
      "memory usage: 4.1+ MB\n"
     ]
    }
   ],
   "source": [
    "df['CO2 emission (Tons)'] = df['CO2 emission (Tons)'].astype(int)\n",
    "df.info()"
   ]
  },
  {
   "cell_type": "markdown",
   "metadata": {},
   "source": [
    "Changing column name from '% of World' to 'Percent of world' for readability"
   ]
  },
  {
   "cell_type": "code",
   "execution_count": 166,
   "metadata": {},
   "outputs": [
    {
     "data": {
      "text/html": [
       "<div>\n",
       "<style scoped>\n",
       "    .dataframe tbody tr th:only-of-type {\n",
       "        vertical-align: middle;\n",
       "    }\n",
       "\n",
       "    .dataframe tbody tr th {\n",
       "        vertical-align: top;\n",
       "    }\n",
       "\n",
       "    .dataframe thead th {\n",
       "        text-align: right;\n",
       "    }\n",
       "</style>\n",
       "<table border=\"1\" class=\"dataframe\">\n",
       "  <thead>\n",
       "    <tr style=\"text-align: right;\">\n",
       "      <th></th>\n",
       "      <th>Country</th>\n",
       "      <th>Code</th>\n",
       "      <th>Calling Code</th>\n",
       "      <th>Year</th>\n",
       "      <th>CO2 emission (Tons)</th>\n",
       "      <th>Population(2022)</th>\n",
       "      <th>Area</th>\n",
       "      <th>Percent of world</th>\n",
       "      <th>Density(km2)</th>\n",
       "    </tr>\n",
       "  </thead>\n",
       "  <tbody>\n",
       "    <tr>\n",
       "      <th>0</th>\n",
       "      <td>Afghanistan</td>\n",
       "      <td>AF</td>\n",
       "      <td>93</td>\n",
       "      <td>1750</td>\n",
       "      <td>0</td>\n",
       "      <td>41128771.0</td>\n",
       "      <td>652230.0</td>\n",
       "      <td>0.40%</td>\n",
       "      <td>63/km�</td>\n",
       "    </tr>\n",
       "    <tr>\n",
       "      <th>1</th>\n",
       "      <td>Afghanistan</td>\n",
       "      <td>AF</td>\n",
       "      <td>93</td>\n",
       "      <td>1751</td>\n",
       "      <td>0</td>\n",
       "      <td>41128771.0</td>\n",
       "      <td>652230.0</td>\n",
       "      <td>0.40%</td>\n",
       "      <td>63/km�</td>\n",
       "    </tr>\n",
       "    <tr>\n",
       "      <th>2</th>\n",
       "      <td>Afghanistan</td>\n",
       "      <td>AF</td>\n",
       "      <td>93</td>\n",
       "      <td>1752</td>\n",
       "      <td>0</td>\n",
       "      <td>41128771.0</td>\n",
       "      <td>652230.0</td>\n",
       "      <td>0.40%</td>\n",
       "      <td>63/km�</td>\n",
       "    </tr>\n",
       "    <tr>\n",
       "      <th>3</th>\n",
       "      <td>Afghanistan</td>\n",
       "      <td>AF</td>\n",
       "      <td>93</td>\n",
       "      <td>1753</td>\n",
       "      <td>0</td>\n",
       "      <td>41128771.0</td>\n",
       "      <td>652230.0</td>\n",
       "      <td>0.40%</td>\n",
       "      <td>63/km�</td>\n",
       "    </tr>\n",
       "    <tr>\n",
       "      <th>4</th>\n",
       "      <td>Afghanistan</td>\n",
       "      <td>AF</td>\n",
       "      <td>93</td>\n",
       "      <td>1754</td>\n",
       "      <td>0</td>\n",
       "      <td>41128771.0</td>\n",
       "      <td>652230.0</td>\n",
       "      <td>0.40%</td>\n",
       "      <td>63/km�</td>\n",
       "    </tr>\n",
       "  </tbody>\n",
       "</table>\n",
       "</div>"
      ],
      "text/plain": [
       "       Country Code Calling Code  Year  CO2 emission (Tons)  Population(2022)  \\\n",
       "0  Afghanistan   AF           93  1750                    0        41128771.0   \n",
       "1  Afghanistan   AF           93  1751                    0        41128771.0   \n",
       "2  Afghanistan   AF           93  1752                    0        41128771.0   \n",
       "3  Afghanistan   AF           93  1753                    0        41128771.0   \n",
       "4  Afghanistan   AF           93  1754                    0        41128771.0   \n",
       "\n",
       "       Area Percent of world Density(km2)  \n",
       "0  652230.0            0.40%       63/km�  \n",
       "1  652230.0            0.40%       63/km�  \n",
       "2  652230.0            0.40%       63/km�  \n",
       "3  652230.0            0.40%       63/km�  \n",
       "4  652230.0            0.40%       63/km�  "
      ]
     },
     "execution_count": 166,
     "metadata": {},
     "output_type": "execute_result"
    }
   ],
   "source": [
    "df.rename(columns = {'% of World':'Percent of world'}, inplace = True)\n",
    "df.head()"
   ]
  },
  {
   "cell_type": "markdown",
   "metadata": {},
   "source": [
    "### 4.) Visualize you data with plots."
   ]
  },
  {
   "cell_type": "markdown",
   "metadata": {},
   "source": [
    "Identifying years of significant increase in CO2 Emissions worldwide"
   ]
  },
  {
   "cell_type": "code",
   "execution_count": 167,
   "metadata": {},
   "outputs": [
    {
     "data": {
      "image/png": "[encoded data removed]",
      "text/plain": [
       "<Figure size 1000x500 with 1 Axes>"
      ]
     },
     "metadata": {},
     "output_type": "display_data"
    }
   ],
   "source": [
    "df.groupby('Year')['CO2 emission (Tons)'].sum().plot(figsize=(10,5));"
   ]
  },
  {
   "cell_type": "markdown",
   "metadata": {},
   "source": [
    "We can see an increase in CO2 Emissions around 1900, and a sharp increase after 1950."
   ]
  },
  {
   "cell_type": "markdown",
   "metadata": {},
   "source": [
    "Sorting the top 30 countries by total emissions in 2020"
   ]
  },
  {
   "cell_type": "code",
   "execution_count": 168,
   "metadata": {},
   "outputs": [
    {
     "data": {
      "image/png": "[encoded data removed]",
      "text/plain": [
       "<Figure size 1000x500 with 1 Axes>"
      ]
     },
     "metadata": {},
     "output_type": "display_data"
    }
   ],
   "source": [
    "df[df['Year']==2020].sort_values(by='CO2 emission (Tons)', ascending=False).head(30).plot.bar(x='Country',y='CO2 emission (Tons)',figsize=(10,5));"
   ]
  },
  {
   "cell_type": "markdown",
   "metadata": {},
   "source": [
    "Finding the top five countries by CO2 emissions in 2020"
   ]
  },
  {
   "cell_type": "code",
   "execution_count": 169,
   "metadata": {},
   "outputs": [
    {
     "data": {
      "text/html": [
       "<div>\n",
       "<style scoped>\n",
       "    .dataframe tbody tr th:only-of-type {\n",
       "        vertical-align: middle;\n",
       "    }\n",
       "\n",
       "    .dataframe tbody tr th {\n",
       "        vertical-align: top;\n",
       "    }\n",
       "\n",
       "    .dataframe thead th {\n",
       "        text-align: right;\n",
       "    }\n",
       "</style>\n",
       "<table border=\"1\" class=\"dataframe\">\n",
       "  <thead>\n",
       "    <tr style=\"text-align: right;\">\n",
       "      <th></th>\n",
       "      <th>Country</th>\n",
       "      <th>Code</th>\n",
       "      <th>Calling Code</th>\n",
       "      <th>Year</th>\n",
       "      <th>CO2 emission (Tons)</th>\n",
       "      <th>Population(2022)</th>\n",
       "      <th>Area</th>\n",
       "      <th>Percent of world</th>\n",
       "      <th>Density(km2)</th>\n",
       "    </tr>\n",
       "  </thead>\n",
       "  <tbody>\n",
       "    <tr>\n",
       "      <th>57180</th>\n",
       "      <td>United States</td>\n",
       "      <td>US</td>\n",
       "      <td>1</td>\n",
       "      <td>2020</td>\n",
       "      <td>417000000000</td>\n",
       "      <td>3.382899e+08</td>\n",
       "      <td>9372610.0</td>\n",
       "      <td>6.10%</td>\n",
       "      <td>36/km�</td>\n",
       "    </tr>\n",
       "    <tr>\n",
       "      <th>10839</th>\n",
       "      <td>China</td>\n",
       "      <td>CN</td>\n",
       "      <td>86</td>\n",
       "      <td>2020</td>\n",
       "      <td>236000000000</td>\n",
       "      <td>1.425887e+09</td>\n",
       "      <td>9706961.0</td>\n",
       "      <td>6.30%</td>\n",
       "      <td>147/km�</td>\n",
       "    </tr>\n",
       "    <tr>\n",
       "      <th>44443</th>\n",
       "      <td>Russia</td>\n",
       "      <td>NaN</td>\n",
       "      <td>7</td>\n",
       "      <td>2020</td>\n",
       "      <td>115000000000</td>\n",
       "      <td>1.447133e+08</td>\n",
       "      <td>17098242.0</td>\n",
       "      <td>11.00%</td>\n",
       "      <td>8/km�</td>\n",
       "    </tr>\n",
       "    <tr>\n",
       "      <th>20324</th>\n",
       "      <td>Germany</td>\n",
       "      <td>DE</td>\n",
       "      <td>49</td>\n",
       "      <td>2020</td>\n",
       "      <td>92635615097</td>\n",
       "      <td>8.336984e+07</td>\n",
       "      <td>357114.0</td>\n",
       "      <td>0.20%</td>\n",
       "      <td>233/km�</td>\n",
       "    </tr>\n",
       "    <tr>\n",
       "      <th>56909</th>\n",
       "      <td>United Kingdom</td>\n",
       "      <td>GB</td>\n",
       "      <td>44</td>\n",
       "      <td>2020</td>\n",
       "      <td>78161145636</td>\n",
       "      <td>6.750894e+07</td>\n",
       "      <td>242900.0</td>\n",
       "      <td>0.20%</td>\n",
       "      <td>278/km�</td>\n",
       "    </tr>\n",
       "  </tbody>\n",
       "</table>\n",
       "</div>"
      ],
      "text/plain": [
       "              Country Code Calling Code  Year  CO2 emission (Tons)  \\\n",
       "57180   United States   US            1  2020         417000000000   \n",
       "10839           China   CN           86  2020         236000000000   \n",
       "44443          Russia  NaN            7  2020         115000000000   \n",
       "20324         Germany   DE           49  2020          92635615097   \n",
       "56909  United Kingdom   GB           44  2020          78161145636   \n",
       "\n",
       "       Population(2022)        Area Percent of world Density(km2)  \n",
       "57180      3.382899e+08   9372610.0            6.10%       36/km�  \n",
       "10839      1.425887e+09   9706961.0            6.30%      147/km�  \n",
       "44443      1.447133e+08  17098242.0           11.00%        8/km�  \n",
       "20324      8.336984e+07    357114.0            0.20%      233/km�  \n",
       "56909      6.750894e+07    242900.0            0.20%      278/km�  "
      ]
     },
     "execution_count": 169,
     "metadata": {},
     "output_type": "execute_result"
    }
   ],
   "source": [
    "top_five = df[df['Year']==2020].sort_values(by='CO2 emission (Tons)', ascending=False).head(5)\n",
    "top_five"
   ]
  },
  {
   "cell_type": "code",
   "execution_count": 170,
   "metadata": {},
   "outputs": [
    {
     "data": {
      "text/plain": [
       "938796760733"
      ]
     },
     "execution_count": 170,
     "metadata": {},
     "output_type": "execute_result"
    }
   ],
   "source": [
    "top_five['CO2 emission (Tons)'].sum()"
   ]
  },
  {
   "cell_type": "code",
   "execution_count": 171,
   "metadata": {},
   "outputs": [
    {
     "data": {
      "text/html": [
       "<div>\n",
       "<style scoped>\n",
       "    .dataframe tbody tr th:only-of-type {\n",
       "        vertical-align: middle;\n",
       "    }\n",
       "\n",
       "    .dataframe tbody tr th {\n",
       "        vertical-align: top;\n",
       "    }\n",
       "\n",
       "    .dataframe thead th {\n",
       "        text-align: right;\n",
       "    }\n",
       "</style>\n",
       "<table border=\"1\" class=\"dataframe\">\n",
       "  <thead>\n",
       "    <tr style=\"text-align: right;\">\n",
       "      <th></th>\n",
       "      <th>Country</th>\n",
       "      <th>Code</th>\n",
       "      <th>Calling Code</th>\n",
       "      <th>Year</th>\n",
       "      <th>CO2 emission (Tons)</th>\n",
       "      <th>Population(2022)</th>\n",
       "      <th>Area</th>\n",
       "      <th>Percent of world</th>\n",
       "      <th>Density(km2)</th>\n",
       "    </tr>\n",
       "  </thead>\n",
       "  <tbody>\n",
       "    <tr>\n",
       "      <th>56910</th>\n",
       "      <td>United States</td>\n",
       "      <td>US</td>\n",
       "      <td>1</td>\n",
       "      <td>1750</td>\n",
       "      <td>0</td>\n",
       "      <td>338289857.0</td>\n",
       "      <td>9372610.0</td>\n",
       "      <td>6.10%</td>\n",
       "      <td>36/km�</td>\n",
       "    </tr>\n",
       "    <tr>\n",
       "      <th>56911</th>\n",
       "      <td>United States</td>\n",
       "      <td>US</td>\n",
       "      <td>1</td>\n",
       "      <td>1751</td>\n",
       "      <td>0</td>\n",
       "      <td>338289857.0</td>\n",
       "      <td>9372610.0</td>\n",
       "      <td>6.10%</td>\n",
       "      <td>36/km�</td>\n",
       "    </tr>\n",
       "    <tr>\n",
       "      <th>56912</th>\n",
       "      <td>United States</td>\n",
       "      <td>US</td>\n",
       "      <td>1</td>\n",
       "      <td>1752</td>\n",
       "      <td>0</td>\n",
       "      <td>338289857.0</td>\n",
       "      <td>9372610.0</td>\n",
       "      <td>6.10%</td>\n",
       "      <td>36/km�</td>\n",
       "    </tr>\n",
       "    <tr>\n",
       "      <th>56913</th>\n",
       "      <td>United States</td>\n",
       "      <td>US</td>\n",
       "      <td>1</td>\n",
       "      <td>1753</td>\n",
       "      <td>0</td>\n",
       "      <td>338289857.0</td>\n",
       "      <td>9372610.0</td>\n",
       "      <td>6.10%</td>\n",
       "      <td>36/km�</td>\n",
       "    </tr>\n",
       "    <tr>\n",
       "      <th>56914</th>\n",
       "      <td>United States</td>\n",
       "      <td>US</td>\n",
       "      <td>1</td>\n",
       "      <td>1754</td>\n",
       "      <td>0</td>\n",
       "      <td>338289857.0</td>\n",
       "      <td>9372610.0</td>\n",
       "      <td>6.10%</td>\n",
       "      <td>36/km�</td>\n",
       "    </tr>\n",
       "    <tr>\n",
       "      <th>...</th>\n",
       "      <td>...</td>\n",
       "      <td>...</td>\n",
       "      <td>...</td>\n",
       "      <td>...</td>\n",
       "      <td>...</td>\n",
       "      <td>...</td>\n",
       "      <td>...</td>\n",
       "      <td>...</td>\n",
       "      <td>...</td>\n",
       "    </tr>\n",
       "    <tr>\n",
       "      <th>57176</th>\n",
       "      <td>United States</td>\n",
       "      <td>US</td>\n",
       "      <td>1</td>\n",
       "      <td>2016</td>\n",
       "      <td>396000000000</td>\n",
       "      <td>338289857.0</td>\n",
       "      <td>9372610.0</td>\n",
       "      <td>6.10%</td>\n",
       "      <td>36/km�</td>\n",
       "    </tr>\n",
       "    <tr>\n",
       "      <th>57177</th>\n",
       "      <td>United States</td>\n",
       "      <td>US</td>\n",
       "      <td>1</td>\n",
       "      <td>2017</td>\n",
       "      <td>401000000000</td>\n",
       "      <td>338289857.0</td>\n",
       "      <td>9372610.0</td>\n",
       "      <td>6.10%</td>\n",
       "      <td>36/km�</td>\n",
       "    </tr>\n",
       "    <tr>\n",
       "      <th>57178</th>\n",
       "      <td>United States</td>\n",
       "      <td>US</td>\n",
       "      <td>1</td>\n",
       "      <td>2018</td>\n",
       "      <td>407000000000</td>\n",
       "      <td>338289857.0</td>\n",
       "      <td>9372610.0</td>\n",
       "      <td>6.10%</td>\n",
       "      <td>36/km�</td>\n",
       "    </tr>\n",
       "    <tr>\n",
       "      <th>57179</th>\n",
       "      <td>United States</td>\n",
       "      <td>US</td>\n",
       "      <td>1</td>\n",
       "      <td>2019</td>\n",
       "      <td>412000000000</td>\n",
       "      <td>338289857.0</td>\n",
       "      <td>9372610.0</td>\n",
       "      <td>6.10%</td>\n",
       "      <td>36/km�</td>\n",
       "    </tr>\n",
       "    <tr>\n",
       "      <th>57180</th>\n",
       "      <td>United States</td>\n",
       "      <td>US</td>\n",
       "      <td>1</td>\n",
       "      <td>2020</td>\n",
       "      <td>417000000000</td>\n",
       "      <td>338289857.0</td>\n",
       "      <td>9372610.0</td>\n",
       "      <td>6.10%</td>\n",
       "      <td>36/km�</td>\n",
       "    </tr>\n",
       "  </tbody>\n",
       "</table>\n",
       "<p>271 rows × 9 columns</p>\n",
       "</div>"
      ],
      "text/plain": [
       "             Country Code Calling Code  Year  CO2 emission (Tons)  \\\n",
       "56910  United States   US            1  1750                    0   \n",
       "56911  United States   US            1  1751                    0   \n",
       "56912  United States   US            1  1752                    0   \n",
       "56913  United States   US            1  1753                    0   \n",
       "56914  United States   US            1  1754                    0   \n",
       "...              ...  ...          ...   ...                  ...   \n",
       "57176  United States   US            1  2016         396000000000   \n",
       "57177  United States   US            1  2017         401000000000   \n",
       "57178  United States   US            1  2018         407000000000   \n",
       "57179  United States   US            1  2019         412000000000   \n",
       "57180  United States   US            1  2020         417000000000   \n",
       "\n",
       "       Population(2022)       Area Percent of world Density(km2)  \n",
       "56910       338289857.0  9372610.0            6.10%       36/km�  \n",
       "56911       338289857.0  9372610.0            6.10%       36/km�  \n",
       "56912       338289857.0  9372610.0            6.10%       36/km�  \n",
       "56913       338289857.0  9372610.0            6.10%       36/km�  \n",
       "56914       338289857.0  9372610.0            6.10%       36/km�  \n",
       "...                 ...        ...              ...          ...  \n",
       "57176       338289857.0  9372610.0            6.10%       36/km�  \n",
       "57177       338289857.0  9372610.0            6.10%       36/km�  \n",
       "57178       338289857.0  9372610.0            6.10%       36/km�  \n",
       "57179       338289857.0  9372610.0            6.10%       36/km�  \n",
       "57180       338289857.0  9372610.0            6.10%       36/km�  \n",
       "\n",
       "[271 rows x 9 columns]"
      ]
     },
     "execution_count": 171,
     "metadata": {},
     "output_type": "execute_result"
    }
   ],
   "source": [
    "usa_data = df.loc[df['Country'] == 'United States']\n",
    "usa_data"
   ]
  },
  {
   "cell_type": "markdown",
   "metadata": {},
   "source": [
    "Comparision between US and World CO2 Emissions (1750-2020)"
   ]
  },
  {
   "cell_type": "code",
   "execution_count": 172,
   "metadata": {},
   "outputs": [
    {
     "data": {
      "image/png": "[encoded data removed]",
      "text/plain": [
       "<Figure size 1000x500 with 1 Axes>"
      ]
     },
     "metadata": {},
     "output_type": "display_data"
    }
   ],
   "source": [
    "usa_data.plot(x = 'Year', y = 'CO2 emission (Tons)',figsize=(10,5), color = 'green');\n",
    "df.groupby('Year')['CO2 emission (Tons)'].sum().plot(figsize=(10,5), color = 'red');"
   ]
  },
  {
   "cell_type": "code",
   "execution_count": 174,
   "metadata": {},
   "outputs": [
    {
     "ename": "ValueError",
     "evalue": "could not convert string to float: 'Country'",
     "output_type": "error",
     "traceback": [
      "\u001b[0;31m---------------------------------------------------------------------------\u001b[0m",
      "\u001b[0;31mValueError\u001b[0m                                Traceback (most recent call last)",
      "Cell \u001b[0;32mIn [174], line 5\u001b[0m\n\u001b[1;32m      2\u001b[0m     \u001b[39mreturn\u001b[39;00m((\u001b[39mfloat\u001b[39m(current_year) \u001b[39m-\u001b[39m start_year)\u001b[39m/\u001b[39m\u001b[39mabs\u001b[39m(start_year)) \u001b[39m*\u001b[39m \u001b[39m100.00\u001b[39m\n\u001b[1;32m      4\u001b[0m \u001b[39mfor\u001b[39;00m eachN \u001b[39min\u001b[39;00m usa_data:\n\u001b[0;32m----> 5\u001b[0m     pc \u001b[39m=\u001b[39m percent_change(usa_data[\u001b[39m'\u001b[39m\u001b[39mCO2 emission (Tons)\u001b[39m\u001b[39m'\u001b[39m], eachN)\n\u001b[1;32m      6\u001b[0m     \u001b[39mprint\u001b[39m (eachN, \u001b[39m'\u001b[39m\u001b[39m||\u001b[39m\u001b[39m'\u001b[39m, pc)\n",
      "Cell \u001b[0;32mIn [174], line 2\u001b[0m, in \u001b[0;36mpercent_change\u001b[0;34m(start_year, current_year)\u001b[0m\n\u001b[1;32m      1\u001b[0m \u001b[39mdef\u001b[39;00m \u001b[39mpercent_change\u001b[39m(start_year, current_year):\n\u001b[0;32m----> 2\u001b[0m     \u001b[39mreturn\u001b[39;00m((\u001b[39mfloat\u001b[39;49m(current_year) \u001b[39m-\u001b[39m start_year)\u001b[39m/\u001b[39m\u001b[39mabs\u001b[39m(start_year)) \u001b[39m*\u001b[39m \u001b[39m100.00\u001b[39m\n",
      "\u001b[0;31mValueError\u001b[0m: could not convert string to float: 'Country'"
     ]
    }
   ],
   "source": [
    "def percent_change(start_year, current_year):\n",
    "    return((float(current_year) - start_year)/abs(start_year)) * 100.00\n",
    "\n",
    "for eachN in usa_data:\n",
    "    pc = percent_change(usa_data['CO2 emission (Tons)'], eachN)\n",
    "    print (eachN, '||', pc)"
   ]
  }
 ],
 "metadata": {
  "kernelspec": {
   "display_name": "Python 3.10.6 64-bit",
   "language": "python",
   "name": "python3"
  },
  "language_info": {
   "codemirror_mode": {
    "name": "ipython",
    "version": 3
   },
   "file_extension": ".py",
   "mimetype": "text/x-python",
   "name": "python",
   "nbconvert_exporter": "python",
   "pygments_lexer": "ipython3",
   "version": "3.10.6"
  },
  "orig_nbformat": 4,
  "vscode": {
   "interpreter": {
    "hash": "aee8b7b246df8f9039afb4144a1f6fd8d2ca17a180786b69acc140d282b71a49"
   }
  }
 },
 "nbformat": 4,
 "nbformat_minor": 2
}
